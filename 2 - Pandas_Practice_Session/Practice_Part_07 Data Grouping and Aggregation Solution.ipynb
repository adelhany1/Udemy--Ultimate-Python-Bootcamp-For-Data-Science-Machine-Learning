{
 "cells": [
  {
   "cell_type": "markdown",
   "metadata": {},
   "source": [
    "# Practice_Part_07: Data Grouping and Aggregation Solution"
   ]
  },
  {
   "cell_type": "code",
   "execution_count": null,
   "metadata": {},
   "outputs": [],
   "source": []
  },
  {
   "cell_type": "code",
   "execution_count": 1,
   "metadata": {},
   "outputs": [],
   "source": [
    "import pandas as pd\n",
    "import numpy as np"
   ]
  },
  {
   "cell_type": "code",
   "execution_count": 2,
   "metadata": {},
   "outputs": [
    {
     "data": {
      "text/html": [
       "<div>\n",
       "<style scoped>\n",
       "    .dataframe tbody tr th:only-of-type {\n",
       "        vertical-align: middle;\n",
       "    }\n",
       "\n",
       "    .dataframe tbody tr th {\n",
       "        vertical-align: top;\n",
       "    }\n",
       "\n",
       "    .dataframe thead th {\n",
       "        text-align: right;\n",
       "    }\n",
       "</style>\n",
       "<table border=\"1\" class=\"dataframe\">\n",
       "  <thead>\n",
       "    <tr style=\"text-align: right;\">\n",
       "      <th></th>\n",
       "      <th>pclass</th>\n",
       "      <th>survived</th>\n",
       "      <th>name</th>\n",
       "      <th>sex</th>\n",
       "      <th>age</th>\n",
       "      <th>sibsp</th>\n",
       "      <th>parch</th>\n",
       "      <th>ticket</th>\n",
       "      <th>fare</th>\n",
       "      <th>cabin</th>\n",
       "      <th>embarked</th>\n",
       "      <th>boat</th>\n",
       "      <th>body</th>\n",
       "      <th>home.dest</th>\n",
       "    </tr>\n",
       "  </thead>\n",
       "  <tbody>\n",
       "    <tr>\n",
       "      <th>0</th>\n",
       "      <td>1</td>\n",
       "      <td>1</td>\n",
       "      <td>Allen, Miss. Elisabeth Walton</td>\n",
       "      <td>female</td>\n",
       "      <td>29.00</td>\n",
       "      <td>0</td>\n",
       "      <td>0</td>\n",
       "      <td>24160</td>\n",
       "      <td>211.3375</td>\n",
       "      <td>B5</td>\n",
       "      <td>S</td>\n",
       "      <td>2</td>\n",
       "      <td>NaN</td>\n",
       "      <td>St Louis, MO</td>\n",
       "    </tr>\n",
       "    <tr>\n",
       "      <th>1</th>\n",
       "      <td>1</td>\n",
       "      <td>1</td>\n",
       "      <td>Allison, Master. Hudson Trevor</td>\n",
       "      <td>male</td>\n",
       "      <td>0.92</td>\n",
       "      <td>1</td>\n",
       "      <td>2</td>\n",
       "      <td>113781</td>\n",
       "      <td>151.5500</td>\n",
       "      <td>C22 C26</td>\n",
       "      <td>S</td>\n",
       "      <td>11</td>\n",
       "      <td>NaN</td>\n",
       "      <td>Montreal, PQ / Chesterville, ON</td>\n",
       "    </tr>\n",
       "    <tr>\n",
       "      <th>2</th>\n",
       "      <td>1</td>\n",
       "      <td>0</td>\n",
       "      <td>Allison, Miss. Helen Loraine</td>\n",
       "      <td>female</td>\n",
       "      <td>2.00</td>\n",
       "      <td>1</td>\n",
       "      <td>2</td>\n",
       "      <td>113781</td>\n",
       "      <td>151.5500</td>\n",
       "      <td>C22 C26</td>\n",
       "      <td>S</td>\n",
       "      <td>NaN</td>\n",
       "      <td>NaN</td>\n",
       "      <td>Montreal, PQ / Chesterville, ON</td>\n",
       "    </tr>\n",
       "    <tr>\n",
       "      <th>3</th>\n",
       "      <td>1</td>\n",
       "      <td>0</td>\n",
       "      <td>Allison, Mr. Hudson Joshua Creighton</td>\n",
       "      <td>male</td>\n",
       "      <td>30.00</td>\n",
       "      <td>1</td>\n",
       "      <td>2</td>\n",
       "      <td>113781</td>\n",
       "      <td>151.5500</td>\n",
       "      <td>C22 C26</td>\n",
       "      <td>S</td>\n",
       "      <td>NaN</td>\n",
       "      <td>135.0</td>\n",
       "      <td>Montreal, PQ / Chesterville, ON</td>\n",
       "    </tr>\n",
       "    <tr>\n",
       "      <th>4</th>\n",
       "      <td>1</td>\n",
       "      <td>0</td>\n",
       "      <td>Allison, Mrs. Hudson J C (Bessie Waldo Daniels)</td>\n",
       "      <td>female</td>\n",
       "      <td>25.00</td>\n",
       "      <td>1</td>\n",
       "      <td>2</td>\n",
       "      <td>113781</td>\n",
       "      <td>151.5500</td>\n",
       "      <td>C22 C26</td>\n",
       "      <td>S</td>\n",
       "      <td>NaN</td>\n",
       "      <td>NaN</td>\n",
       "      <td>Montreal, PQ / Chesterville, ON</td>\n",
       "    </tr>\n",
       "  </tbody>\n",
       "</table>\n",
       "</div>"
      ],
      "text/plain": [
       "   pclass  survived                                             name     sex  \\\n",
       "0       1         1                    Allen, Miss. Elisabeth Walton  female   \n",
       "1       1         1                   Allison, Master. Hudson Trevor    male   \n",
       "2       1         0                     Allison, Miss. Helen Loraine  female   \n",
       "3       1         0             Allison, Mr. Hudson Joshua Creighton    male   \n",
       "4       1         0  Allison, Mrs. Hudson J C (Bessie Waldo Daniels)  female   \n",
       "\n",
       "     age  sibsp  parch  ticket      fare    cabin embarked boat   body  \\\n",
       "0  29.00      0      0   24160  211.3375       B5        S    2    NaN   \n",
       "1   0.92      1      2  113781  151.5500  C22 C26        S   11    NaN   \n",
       "2   2.00      1      2  113781  151.5500  C22 C26        S  NaN    NaN   \n",
       "3  30.00      1      2  113781  151.5500  C22 C26        S  NaN  135.0   \n",
       "4  25.00      1      2  113781  151.5500  C22 C26        S  NaN    NaN   \n",
       "\n",
       "                         home.dest  \n",
       "0                     St Louis, MO  \n",
       "1  Montreal, PQ / Chesterville, ON  \n",
       "2  Montreal, PQ / Chesterville, ON  \n",
       "3  Montreal, PQ / Chesterville, ON  \n",
       "4  Montreal, PQ / Chesterville, ON  "
      ]
     },
     "execution_count": 2,
     "metadata": {},
     "output_type": "execute_result"
    }
   ],
   "source": [
    "titanic = pd.read_csv('data/titanic/original_titanic.csv')\n",
    "titanic.head()"
   ]
  },
  {
   "cell_type": "markdown",
   "metadata": {},
   "source": [
    "#### Exercise_01 Solution\n",
    "For the titanic data present in 'data/titanic':\n",
    "1. Group the titanic data based on 'sex' column and find the mean age of the male and female passengers\n",
    "2. Use the indexing method to find the mean age istead of using the groupby method\n",
    "3. Group the data based on 'sex' column, and find the number of male and female passengers survived\n",
    "4. Count the number of passengers survived and not-survived based on the gender, and cross check the result\n",
    "5. Group the data based on the column 'sex' and iterate over the key and data \n"
   ]
  },
  {
   "cell_type": "markdown",
   "metadata": {},
   "source": [
    "1. Group the titanic data based on 'sex' column and find the mean age of the male and female passengers"
   ]
  },
  {
   "cell_type": "code",
   "execution_count": 3,
   "metadata": {},
   "outputs": [
    {
     "data": {
      "text/plain": [
       "<pandas.core.groupby.generic.SeriesGroupBy object at 0x0000014144B89D00>"
      ]
     },
     "execution_count": 3,
     "metadata": {},
     "output_type": "execute_result"
    }
   ],
   "source": [
    "grouped = titanic['age'].groupby(by=titanic['sex'])\n",
    "grouped"
   ]
  },
  {
   "cell_type": "code",
   "execution_count": 4,
   "metadata": {},
   "outputs": [
    {
     "data": {
      "text/plain": [
       "sex\n",
       "female    28.687088\n",
       "male      30.585228\n",
       "Name: age, dtype: float64"
      ]
     },
     "execution_count": 4,
     "metadata": {},
     "output_type": "execute_result"
    }
   ],
   "source": [
    "grouped.mean()"
   ]
  },
  {
   "cell_type": "code",
   "execution_count": null,
   "metadata": {},
   "outputs": [],
   "source": []
  },
  {
   "cell_type": "markdown",
   "metadata": {},
   "source": [
    "2. Use the indexing method to find the mean age istead of using the groupby method"
   ]
  },
  {
   "cell_type": "code",
   "execution_count": 5,
   "metadata": {},
   "outputs": [
    {
     "data": {
      "text/plain": [
       "1       male\n",
       "3       male\n",
       "5       male\n",
       "7       male\n",
       "9       male\n",
       "        ... \n",
       "1302    male\n",
       "1303    male\n",
       "1306    male\n",
       "1307    male\n",
       "1308    male\n",
       "Name: sex, Length: 843, dtype: object"
      ]
     },
     "execution_count": 5,
     "metadata": {},
     "output_type": "execute_result"
    }
   ],
   "source": [
    "titanic['sex'][titanic['sex']=='male']"
   ]
  },
  {
   "cell_type": "code",
   "execution_count": 6,
   "metadata": {},
   "outputs": [
    {
     "data": {
      "text/plain": [
       "30.58522796352584"
      ]
     },
     "execution_count": 6,
     "metadata": {},
     "output_type": "execute_result"
    }
   ],
   "source": [
    "titanic['age'][titanic['sex']=='male'].mean()"
   ]
  },
  {
   "cell_type": "code",
   "execution_count": 7,
   "metadata": {},
   "outputs": [
    {
     "data": {
      "text/plain": [
       "28.68708762886598"
      ]
     },
     "execution_count": 7,
     "metadata": {},
     "output_type": "execute_result"
    }
   ],
   "source": [
    "titanic['age'][titanic['sex']=='female'].mean()"
   ]
  },
  {
   "cell_type": "code",
   "execution_count": null,
   "metadata": {},
   "outputs": [],
   "source": []
  },
  {
   "cell_type": "markdown",
   "metadata": {},
   "source": [
    "3. Group the data based on 'sex' column, and find the number of male and female passengers survived"
   ]
  },
  {
   "cell_type": "code",
   "execution_count": 8,
   "metadata": {},
   "outputs": [
    {
     "data": {
      "text/plain": [
       "<pandas.core.groupby.generic.SeriesGroupBy object at 0x000001414453E100>"
      ]
     },
     "execution_count": 8,
     "metadata": {},
     "output_type": "execute_result"
    }
   ],
   "source": [
    "g_sex_age = titanic['survived'].groupby(by=[titanic['sex']])\n",
    "g_sex_age"
   ]
  },
  {
   "cell_type": "code",
   "execution_count": 9,
   "metadata": {},
   "outputs": [
    {
     "data": {
      "text/plain": [
       "sex\n",
       "female    339\n",
       "male      161\n",
       "Name: survived, dtype: int64"
      ]
     },
     "execution_count": 9,
     "metadata": {},
     "output_type": "execute_result"
    }
   ],
   "source": [
    "g_sex_age.sum()"
   ]
  },
  {
   "cell_type": "code",
   "execution_count": null,
   "metadata": {},
   "outputs": [],
   "source": []
  },
  {
   "cell_type": "markdown",
   "metadata": {},
   "source": [
    "4. Count the number of passengers survived and not-survived based on the gender, and cross check the result"
   ]
  },
  {
   "cell_type": "code",
   "execution_count": 10,
   "metadata": {},
   "outputs": [
    {
     "data": {
      "text/plain": [
       "sex     survived\n",
       "female  0           127\n",
       "        1           339\n",
       "male    0           682\n",
       "        1           161\n",
       "dtype: int64"
      ]
     },
     "execution_count": 10,
     "metadata": {},
     "output_type": "execute_result"
    }
   ],
   "source": [
    "titanic.groupby(by=['sex', 'survived']).size()"
   ]
  },
  {
   "cell_type": "code",
   "execution_count": 11,
   "metadata": {},
   "outputs": [
    {
     "name": "stdout",
     "output_type": "stream",
     "text": [
      "Total Female Passengers: 466\n",
      "Total Male Passengers: 843\n",
      "Total Passengers: 1309\n"
     ]
    }
   ],
   "source": [
    "print('Total Female Passengers:', 127+339); print('Total Male Passengers:', 682+161)\n",
    "print('Total Passengers:', 127+339+682+161)"
   ]
  },
  {
   "cell_type": "code",
   "execution_count": null,
   "metadata": {},
   "outputs": [],
   "source": []
  },
  {
   "cell_type": "markdown",
   "metadata": {},
   "source": [
    "5. Group the data based on the column 'sex' and iterate over the key and data "
   ]
  },
  {
   "cell_type": "code",
   "execution_count": 12,
   "metadata": {},
   "outputs": [],
   "source": [
    "grouped = titanic.groupby(by='sex')"
   ]
  },
  {
   "cell_type": "code",
   "execution_count": 13,
   "metadata": {},
   "outputs": [
    {
     "name": "stdout",
     "output_type": "stream",
     "text": [
      "female\n",
      "      pclass  survived                                             name  \\\n",
      "0          1         1                    Allen, Miss. Elisabeth Walton   \n",
      "2          1         0                     Allison, Miss. Helen Loraine   \n",
      "4          1         0  Allison, Mrs. Hudson J C (Bessie Waldo Daniels)   \n",
      "6          1         1                Andrews, Miss. Kornelia Theodosia   \n",
      "8          1         1    Appleton, Mrs. Edward Dale (Charlotte Lamson)   \n",
      "...      ...       ...                                              ...   \n",
      "1286       3         1  Whabee, Mrs. George Joseph (Shawneene Abi-Saab)   \n",
      "1290       3         1                 Wilkes, Mrs. James (Ellen Needs)   \n",
      "1300       3         1          Yasbeck, Mrs. Antoni (Selini Alexander)   \n",
      "1304       3         0                             Zabour, Miss. Hileni   \n",
      "1305       3         0                            Zabour, Miss. Thamine   \n",
      "\n",
      "         sex   age  sibsp  parch  ticket      fare    cabin embarked boat  \\\n",
      "0     female  29.0      0      0   24160  211.3375       B5        S    2   \n",
      "2     female   2.0      1      2  113781  151.5500  C22 C26        S  NaN   \n",
      "4     female  25.0      1      2  113781  151.5500  C22 C26        S  NaN   \n",
      "6     female  63.0      1      0   13502   77.9583       D7        S   10   \n",
      "8     female  53.0      2      0   11769   51.4792     C101        S    D   \n",
      "...      ...   ...    ...    ...     ...       ...      ...      ...  ...   \n",
      "1286  female  38.0      0      0    2688    7.2292      NaN        C    C   \n",
      "1290  female  47.0      1      0  363272    7.0000      NaN        S  NaN   \n",
      "1300  female  15.0      1      0    2659   14.4542      NaN        C  NaN   \n",
      "1304  female  14.5      1      0    2665   14.4542      NaN        C  NaN   \n",
      "1305  female   NaN      1      0    2665   14.4542      NaN        C  NaN   \n",
      "\n",
      "       body                        home.dest  \n",
      "0       NaN                     St Louis, MO  \n",
      "2       NaN  Montreal, PQ / Chesterville, ON  \n",
      "4       NaN  Montreal, PQ / Chesterville, ON  \n",
      "6       NaN                       Hudson, NY  \n",
      "8       NaN              Bayside, Queens, NY  \n",
      "...     ...                              ...  \n",
      "1286    NaN                              NaN  \n",
      "1290    NaN                              NaN  \n",
      "1300    NaN                              NaN  \n",
      "1304  328.0                              NaN  \n",
      "1305    NaN                              NaN  \n",
      "\n",
      "[466 rows x 14 columns]\n",
      "male\n",
      "      pclass  survived                                  name   sex    age  \\\n",
      "1          1         1        Allison, Master. Hudson Trevor  male   0.92   \n",
      "3          1         0  Allison, Mr. Hudson Joshua Creighton  male  30.00   \n",
      "5          1         1                   Anderson, Mr. Harry  male  48.00   \n",
      "7          1         0                Andrews, Mr. Thomas Jr  male  39.00   \n",
      "9          1         0               Artagaveytia, Mr. Ramon  male  71.00   \n",
      "...      ...       ...                                   ...   ...    ...   \n",
      "1302       3         0                     Yousif, Mr. Wazli  male    NaN   \n",
      "1303       3         0                 Yousseff, Mr. Gerious  male    NaN   \n",
      "1306       3         0             Zakarian, Mr. Mapriededer  male  26.50   \n",
      "1307       3         0                   Zakarian, Mr. Ortin  male  27.00   \n",
      "1308       3         0                    Zimmerman, Mr. Leo  male  29.00   \n",
      "\n",
      "      sibsp  parch    ticket      fare    cabin embarked boat   body  \\\n",
      "1         1      2    113781  151.5500  C22 C26        S   11    NaN   \n",
      "3         1      2    113781  151.5500  C22 C26        S  NaN  135.0   \n",
      "5         0      0     19952   26.5500      E12        S    3    NaN   \n",
      "7         0      0    112050    0.0000      A36        S  NaN    NaN   \n",
      "9         0      0  PC 17609   49.5042      NaN        C  NaN   22.0   \n",
      "...     ...    ...       ...       ...      ...      ...  ...    ...   \n",
      "1302      0      0      2647    7.2250      NaN        C  NaN    NaN   \n",
      "1303      0      0      2627   14.4583      NaN        C  NaN    NaN   \n",
      "1306      0      0      2656    7.2250      NaN        C  NaN  304.0   \n",
      "1307      0      0      2670    7.2250      NaN        C  NaN    NaN   \n",
      "1308      0      0    315082    7.8750      NaN        S  NaN    NaN   \n",
      "\n",
      "                            home.dest  \n",
      "1     Montreal, PQ / Chesterville, ON  \n",
      "3     Montreal, PQ / Chesterville, ON  \n",
      "5                        New York, NY  \n",
      "7                         Belfast, NI  \n",
      "9                 Montevideo, Uruguay  \n",
      "...                               ...  \n",
      "1302                              NaN  \n",
      "1303                              NaN  \n",
      "1306                              NaN  \n",
      "1307                              NaN  \n",
      "1308                              NaN  \n",
      "\n",
      "[843 rows x 14 columns]\n"
     ]
    }
   ],
   "source": [
    "for key, data in grouped:\n",
    "    print(key)\n",
    "    print(data)"
   ]
  },
  {
   "cell_type": "markdown",
   "metadata": {},
   "source": [
    "#### Exercise_02 Solution\n",
    "1. Group the titanic data along the column, and iterate over the key and data \n",
    "2. Group the titanic data based on ['pclass', 'survived', 'sex'] and count the number of passengers survived on each type of 'pclass'\n",
    "3. Use the 'survived' data as the list of values to find the total number of passengers survived using groupby method\n",
    "4. Group the titanic data based on ['sex', 'name'] and find the total number of people survived\n",
    "5. Find the most used type of 'embarked' by the passengers\n",
    "6. Find the maximum age and the maximum pclass type\n",
    "7. Find the top 'cabins' in the titanic ship using describe method on the column 'cabin'"
   ]
  },
  {
   "cell_type": "markdown",
   "metadata": {},
   "source": [
    "1. Group the titanic data along the column, and iterate over the key and data "
   ]
  },
  {
   "cell_type": "code",
   "execution_count": 14,
   "metadata": {},
   "outputs": [
    {
     "data": {
      "text/plain": [
       "pclass         int64\n",
       "survived       int64\n",
       "name          object\n",
       "sex           object\n",
       "age          float64\n",
       "sibsp          int64\n",
       "parch          int64\n",
       "ticket        object\n",
       "fare         float64\n",
       "cabin         object\n",
       "embarked      object\n",
       "boat          object\n",
       "body         float64\n",
       "home.dest     object\n",
       "dtype: object"
      ]
     },
     "execution_count": 14,
     "metadata": {},
     "output_type": "execute_result"
    }
   ],
   "source": [
    "titanic.dtypes"
   ]
  },
  {
   "cell_type": "code",
   "execution_count": 15,
   "metadata": {},
   "outputs": [
    {
     "name": "stdout",
     "output_type": "stream",
     "text": [
      "int64\n",
      "      pclass  survived  sibsp  parch\n",
      "0          1         1      0      0\n",
      "1          1         1      1      2\n",
      "2          1         0      1      2\n",
      "3          1         0      1      2\n",
      "4          1         0      1      2\n",
      "...      ...       ...    ...    ...\n",
      "1304       3         0      1      0\n",
      "1305       3         0      1      0\n",
      "1306       3         0      0      0\n",
      "1307       3         0      0      0\n",
      "1308       3         0      0      0\n",
      "\n",
      "[1309 rows x 4 columns]\n",
      "float64\n",
      "        age      fare   body\n",
      "0     29.00  211.3375    NaN\n",
      "1      0.92  151.5500    NaN\n",
      "2      2.00  151.5500    NaN\n",
      "3     30.00  151.5500  135.0\n",
      "4     25.00  151.5500    NaN\n",
      "...     ...       ...    ...\n",
      "1304  14.50   14.4542  328.0\n",
      "1305    NaN   14.4542    NaN\n",
      "1306  26.50    7.2250  304.0\n",
      "1307  27.00    7.2250    NaN\n",
      "1308  29.00    7.8750    NaN\n",
      "\n",
      "[1309 rows x 3 columns]\n",
      "object\n",
      "                                                 name     sex  ticket  \\\n",
      "0                       Allen, Miss. Elisabeth Walton  female   24160   \n",
      "1                      Allison, Master. Hudson Trevor    male  113781   \n",
      "2                        Allison, Miss. Helen Loraine  female  113781   \n",
      "3                Allison, Mr. Hudson Joshua Creighton    male  113781   \n",
      "4     Allison, Mrs. Hudson J C (Bessie Waldo Daniels)  female  113781   \n",
      "...                                               ...     ...     ...   \n",
      "1304                             Zabour, Miss. Hileni  female    2665   \n",
      "1305                            Zabour, Miss. Thamine  female    2665   \n",
      "1306                        Zakarian, Mr. Mapriededer    male    2656   \n",
      "1307                              Zakarian, Mr. Ortin    male    2670   \n",
      "1308                               Zimmerman, Mr. Leo    male  315082   \n",
      "\n",
      "        cabin embarked boat                        home.dest  \n",
      "0          B5        S    2                     St Louis, MO  \n",
      "1     C22 C26        S   11  Montreal, PQ / Chesterville, ON  \n",
      "2     C22 C26        S  NaN  Montreal, PQ / Chesterville, ON  \n",
      "3     C22 C26        S  NaN  Montreal, PQ / Chesterville, ON  \n",
      "4     C22 C26        S  NaN  Montreal, PQ / Chesterville, ON  \n",
      "...       ...      ...  ...                              ...  \n",
      "1304      NaN        C  NaN                              NaN  \n",
      "1305      NaN        C  NaN                              NaN  \n",
      "1306      NaN        C  NaN                              NaN  \n",
      "1307      NaN        C  NaN                              NaN  \n",
      "1308      NaN        S  NaN                              NaN  \n",
      "\n",
      "[1309 rows x 7 columns]\n"
     ]
    }
   ],
   "source": [
    "grouped_column = titanic.groupby(by=titanic.dtypes, axis=1)\n",
    "for datatype, data in grouped_column:\n",
    "    print(datatype)\n",
    "    print(data)"
   ]
  },
  {
   "cell_type": "code",
   "execution_count": null,
   "metadata": {},
   "outputs": [],
   "source": []
  },
  {
   "cell_type": "markdown",
   "metadata": {},
   "source": [
    "2. Group the titanic data based on ['pclass', 'survived', 'sex'] and count the number of passengers survived on each type of 'pclass'"
   ]
  },
  {
   "cell_type": "code",
   "execution_count": 16,
   "metadata": {},
   "outputs": [
    {
     "data": {
      "text/html": [
       "<div>\n",
       "<style scoped>\n",
       "    .dataframe tbody tr th:only-of-type {\n",
       "        vertical-align: middle;\n",
       "    }\n",
       "\n",
       "    .dataframe tbody tr th {\n",
       "        vertical-align: top;\n",
       "    }\n",
       "\n",
       "    .dataframe thead th {\n",
       "        text-align: right;\n",
       "    }\n",
       "</style>\n",
       "<table border=\"1\" class=\"dataframe\">\n",
       "  <thead>\n",
       "    <tr style=\"text-align: right;\">\n",
       "      <th></th>\n",
       "      <th>pclass</th>\n",
       "      <th>survived</th>\n",
       "      <th>sex</th>\n",
       "    </tr>\n",
       "  </thead>\n",
       "  <tbody>\n",
       "    <tr>\n",
       "      <th>0</th>\n",
       "      <td>1</td>\n",
       "      <td>1</td>\n",
       "      <td>female</td>\n",
       "    </tr>\n",
       "    <tr>\n",
       "      <th>1</th>\n",
       "      <td>1</td>\n",
       "      <td>1</td>\n",
       "      <td>male</td>\n",
       "    </tr>\n",
       "    <tr>\n",
       "      <th>2</th>\n",
       "      <td>1</td>\n",
       "      <td>0</td>\n",
       "      <td>female</td>\n",
       "    </tr>\n",
       "    <tr>\n",
       "      <th>3</th>\n",
       "      <td>1</td>\n",
       "      <td>0</td>\n",
       "      <td>male</td>\n",
       "    </tr>\n",
       "    <tr>\n",
       "      <th>4</th>\n",
       "      <td>1</td>\n",
       "      <td>0</td>\n",
       "      <td>female</td>\n",
       "    </tr>\n",
       "    <tr>\n",
       "      <th>...</th>\n",
       "      <td>...</td>\n",
       "      <td>...</td>\n",
       "      <td>...</td>\n",
       "    </tr>\n",
       "    <tr>\n",
       "      <th>1304</th>\n",
       "      <td>3</td>\n",
       "      <td>0</td>\n",
       "      <td>female</td>\n",
       "    </tr>\n",
       "    <tr>\n",
       "      <th>1305</th>\n",
       "      <td>3</td>\n",
       "      <td>0</td>\n",
       "      <td>female</td>\n",
       "    </tr>\n",
       "    <tr>\n",
       "      <th>1306</th>\n",
       "      <td>3</td>\n",
       "      <td>0</td>\n",
       "      <td>male</td>\n",
       "    </tr>\n",
       "    <tr>\n",
       "      <th>1307</th>\n",
       "      <td>3</td>\n",
       "      <td>0</td>\n",
       "      <td>male</td>\n",
       "    </tr>\n",
       "    <tr>\n",
       "      <th>1308</th>\n",
       "      <td>3</td>\n",
       "      <td>0</td>\n",
       "      <td>male</td>\n",
       "    </tr>\n",
       "  </tbody>\n",
       "</table>\n",
       "<p>1309 rows × 3 columns</p>\n",
       "</div>"
      ],
      "text/plain": [
       "      pclass  survived     sex\n",
       "0          1         1  female\n",
       "1          1         1    male\n",
       "2          1         0  female\n",
       "3          1         0    male\n",
       "4          1         0  female\n",
       "...      ...       ...     ...\n",
       "1304       3         0  female\n",
       "1305       3         0  female\n",
       "1306       3         0    male\n",
       "1307       3         0    male\n",
       "1308       3         0    male\n",
       "\n",
       "[1309 rows x 3 columns]"
      ]
     },
     "execution_count": 16,
     "metadata": {},
     "output_type": "execute_result"
    }
   ],
   "source": [
    "titanic_2 = titanic[['pclass', 'survived', 'sex']]\n",
    "titanic_2"
   ]
  },
  {
   "cell_type": "code",
   "execution_count": 17,
   "metadata": {},
   "outputs": [],
   "source": [
    "grouped_titanic_2 = titanic_2[['survived', 'sex']].groupby(by=titanic_2['pclass'])"
   ]
  },
  {
   "cell_type": "code",
   "execution_count": 18,
   "metadata": {},
   "outputs": [
    {
     "data": {
      "text/html": [
       "<div>\n",
       "<style scoped>\n",
       "    .dataframe tbody tr th:only-of-type {\n",
       "        vertical-align: middle;\n",
       "    }\n",
       "\n",
       "    .dataframe tbody tr th {\n",
       "        vertical-align: top;\n",
       "    }\n",
       "\n",
       "    .dataframe thead th {\n",
       "        text-align: right;\n",
       "    }\n",
       "</style>\n",
       "<table border=\"1\" class=\"dataframe\">\n",
       "  <thead>\n",
       "    <tr style=\"text-align: right;\">\n",
       "      <th></th>\n",
       "      <th>survived</th>\n",
       "    </tr>\n",
       "    <tr>\n",
       "      <th>pclass</th>\n",
       "      <th></th>\n",
       "    </tr>\n",
       "  </thead>\n",
       "  <tbody>\n",
       "    <tr>\n",
       "      <th>1</th>\n",
       "      <td>200</td>\n",
       "    </tr>\n",
       "    <tr>\n",
       "      <th>2</th>\n",
       "      <td>119</td>\n",
       "    </tr>\n",
       "    <tr>\n",
       "      <th>3</th>\n",
       "      <td>181</td>\n",
       "    </tr>\n",
       "  </tbody>\n",
       "</table>\n",
       "</div>"
      ],
      "text/plain": [
       "        survived\n",
       "pclass          \n",
       "1            200\n",
       "2            119\n",
       "3            181"
      ]
     },
     "execution_count": 18,
     "metadata": {},
     "output_type": "execute_result"
    }
   ],
   "source": [
    "grouped_titanic_2.sum()"
   ]
  },
  {
   "cell_type": "code",
   "execution_count": 19,
   "metadata": {},
   "outputs": [
    {
     "name": "stdout",
     "output_type": "stream",
     "text": [
      "Total Survived: 500\n"
     ]
    }
   ],
   "source": [
    "print('Total Survived:', 200+119+181)"
   ]
  },
  {
   "cell_type": "code",
   "execution_count": null,
   "metadata": {},
   "outputs": [],
   "source": []
  },
  {
   "cell_type": "markdown",
   "metadata": {},
   "source": [
    "3. Use the 'survived' data as the list of values to find the total number of passengers survived using groupby method"
   ]
  },
  {
   "cell_type": "code",
   "execution_count": 20,
   "metadata": {},
   "outputs": [
    {
     "data": {
      "text/plain": [
       "[1, 1, 0, 0, 0, 1, 1, 0, 1, 0]"
      ]
     },
     "execution_count": 20,
     "metadata": {},
     "output_type": "execute_result"
    }
   ],
   "source": [
    "list_survived = titanic['survived'].tolist()\n",
    "list_survived[:10]"
   ]
  },
  {
   "cell_type": "code",
   "execution_count": 21,
   "metadata": {},
   "outputs": [
    {
     "data": {
      "text/html": [
       "<div>\n",
       "<style scoped>\n",
       "    .dataframe tbody tr th:only-of-type {\n",
       "        vertical-align: middle;\n",
       "    }\n",
       "\n",
       "    .dataframe tbody tr th {\n",
       "        vertical-align: top;\n",
       "    }\n",
       "\n",
       "    .dataframe thead th {\n",
       "        text-align: right;\n",
       "    }\n",
       "</style>\n",
       "<table border=\"1\" class=\"dataframe\">\n",
       "  <thead>\n",
       "    <tr style=\"text-align: right;\">\n",
       "      <th></th>\n",
       "      <th>pclass</th>\n",
       "      <th>survived</th>\n",
       "      <th>sex</th>\n",
       "      <th>age</th>\n",
       "      <th>sibsp</th>\n",
       "      <th>parch</th>\n",
       "      <th>ticket</th>\n",
       "      <th>fare</th>\n",
       "      <th>cabin</th>\n",
       "      <th>embarked</th>\n",
       "      <th>boat</th>\n",
       "      <th>body</th>\n",
       "      <th>home.dest</th>\n",
       "    </tr>\n",
       "    <tr>\n",
       "      <th>name</th>\n",
       "      <th></th>\n",
       "      <th></th>\n",
       "      <th></th>\n",
       "      <th></th>\n",
       "      <th></th>\n",
       "      <th></th>\n",
       "      <th></th>\n",
       "      <th></th>\n",
       "      <th></th>\n",
       "      <th></th>\n",
       "      <th></th>\n",
       "      <th></th>\n",
       "      <th></th>\n",
       "    </tr>\n",
       "  </thead>\n",
       "  <tbody>\n",
       "    <tr>\n",
       "      <th>Allen, Miss. Elisabeth Walton</th>\n",
       "      <td>1</td>\n",
       "      <td>1</td>\n",
       "      <td>female</td>\n",
       "      <td>29.00</td>\n",
       "      <td>0</td>\n",
       "      <td>0</td>\n",
       "      <td>24160</td>\n",
       "      <td>211.3375</td>\n",
       "      <td>B5</td>\n",
       "      <td>S</td>\n",
       "      <td>2</td>\n",
       "      <td>NaN</td>\n",
       "      <td>St Louis, MO</td>\n",
       "    </tr>\n",
       "    <tr>\n",
       "      <th>Allison, Master. Hudson Trevor</th>\n",
       "      <td>1</td>\n",
       "      <td>1</td>\n",
       "      <td>male</td>\n",
       "      <td>0.92</td>\n",
       "      <td>1</td>\n",
       "      <td>2</td>\n",
       "      <td>113781</td>\n",
       "      <td>151.5500</td>\n",
       "      <td>C22 C26</td>\n",
       "      <td>S</td>\n",
       "      <td>11</td>\n",
       "      <td>NaN</td>\n",
       "      <td>Montreal, PQ / Chesterville, ON</td>\n",
       "    </tr>\n",
       "    <tr>\n",
       "      <th>Allison, Miss. Helen Loraine</th>\n",
       "      <td>1</td>\n",
       "      <td>0</td>\n",
       "      <td>female</td>\n",
       "      <td>2.00</td>\n",
       "      <td>1</td>\n",
       "      <td>2</td>\n",
       "      <td>113781</td>\n",
       "      <td>151.5500</td>\n",
       "      <td>C22 C26</td>\n",
       "      <td>S</td>\n",
       "      <td>NaN</td>\n",
       "      <td>NaN</td>\n",
       "      <td>Montreal, PQ / Chesterville, ON</td>\n",
       "    </tr>\n",
       "    <tr>\n",
       "      <th>Allison, Mr. Hudson Joshua Creighton</th>\n",
       "      <td>1</td>\n",
       "      <td>0</td>\n",
       "      <td>male</td>\n",
       "      <td>30.00</td>\n",
       "      <td>1</td>\n",
       "      <td>2</td>\n",
       "      <td>113781</td>\n",
       "      <td>151.5500</td>\n",
       "      <td>C22 C26</td>\n",
       "      <td>S</td>\n",
       "      <td>NaN</td>\n",
       "      <td>135.0</td>\n",
       "      <td>Montreal, PQ / Chesterville, ON</td>\n",
       "    </tr>\n",
       "    <tr>\n",
       "      <th>Allison, Mrs. Hudson J C (Bessie Waldo Daniels)</th>\n",
       "      <td>1</td>\n",
       "      <td>0</td>\n",
       "      <td>female</td>\n",
       "      <td>25.00</td>\n",
       "      <td>1</td>\n",
       "      <td>2</td>\n",
       "      <td>113781</td>\n",
       "      <td>151.5500</td>\n",
       "      <td>C22 C26</td>\n",
       "      <td>S</td>\n",
       "      <td>NaN</td>\n",
       "      <td>NaN</td>\n",
       "      <td>Montreal, PQ / Chesterville, ON</td>\n",
       "    </tr>\n",
       "    <tr>\n",
       "      <th>...</th>\n",
       "      <td>...</td>\n",
       "      <td>...</td>\n",
       "      <td>...</td>\n",
       "      <td>...</td>\n",
       "      <td>...</td>\n",
       "      <td>...</td>\n",
       "      <td>...</td>\n",
       "      <td>...</td>\n",
       "      <td>...</td>\n",
       "      <td>...</td>\n",
       "      <td>...</td>\n",
       "      <td>...</td>\n",
       "      <td>...</td>\n",
       "    </tr>\n",
       "    <tr>\n",
       "      <th>Zabour, Miss. Hileni</th>\n",
       "      <td>3</td>\n",
       "      <td>0</td>\n",
       "      <td>female</td>\n",
       "      <td>14.50</td>\n",
       "      <td>1</td>\n",
       "      <td>0</td>\n",
       "      <td>2665</td>\n",
       "      <td>14.4542</td>\n",
       "      <td>NaN</td>\n",
       "      <td>C</td>\n",
       "      <td>NaN</td>\n",
       "      <td>328.0</td>\n",
       "      <td>NaN</td>\n",
       "    </tr>\n",
       "    <tr>\n",
       "      <th>Zabour, Miss. Thamine</th>\n",
       "      <td>3</td>\n",
       "      <td>0</td>\n",
       "      <td>female</td>\n",
       "      <td>NaN</td>\n",
       "      <td>1</td>\n",
       "      <td>0</td>\n",
       "      <td>2665</td>\n",
       "      <td>14.4542</td>\n",
       "      <td>NaN</td>\n",
       "      <td>C</td>\n",
       "      <td>NaN</td>\n",
       "      <td>NaN</td>\n",
       "      <td>NaN</td>\n",
       "    </tr>\n",
       "    <tr>\n",
       "      <th>Zakarian, Mr. Mapriededer</th>\n",
       "      <td>3</td>\n",
       "      <td>0</td>\n",
       "      <td>male</td>\n",
       "      <td>26.50</td>\n",
       "      <td>0</td>\n",
       "      <td>0</td>\n",
       "      <td>2656</td>\n",
       "      <td>7.2250</td>\n",
       "      <td>NaN</td>\n",
       "      <td>C</td>\n",
       "      <td>NaN</td>\n",
       "      <td>304.0</td>\n",
       "      <td>NaN</td>\n",
       "    </tr>\n",
       "    <tr>\n",
       "      <th>Zakarian, Mr. Ortin</th>\n",
       "      <td>3</td>\n",
       "      <td>0</td>\n",
       "      <td>male</td>\n",
       "      <td>27.00</td>\n",
       "      <td>0</td>\n",
       "      <td>0</td>\n",
       "      <td>2670</td>\n",
       "      <td>7.2250</td>\n",
       "      <td>NaN</td>\n",
       "      <td>C</td>\n",
       "      <td>NaN</td>\n",
       "      <td>NaN</td>\n",
       "      <td>NaN</td>\n",
       "    </tr>\n",
       "    <tr>\n",
       "      <th>Zimmerman, Mr. Leo</th>\n",
       "      <td>3</td>\n",
       "      <td>0</td>\n",
       "      <td>male</td>\n",
       "      <td>29.00</td>\n",
       "      <td>0</td>\n",
       "      <td>0</td>\n",
       "      <td>315082</td>\n",
       "      <td>7.8750</td>\n",
       "      <td>NaN</td>\n",
       "      <td>S</td>\n",
       "      <td>NaN</td>\n",
       "      <td>NaN</td>\n",
       "      <td>NaN</td>\n",
       "    </tr>\n",
       "  </tbody>\n",
       "</table>\n",
       "<p>1309 rows × 13 columns</p>\n",
       "</div>"
      ],
      "text/plain": [
       "                                                 pclass  survived     sex  \\\n",
       "name                                                                        \n",
       "Allen, Miss. Elisabeth Walton                         1         1  female   \n",
       "Allison, Master. Hudson Trevor                        1         1    male   \n",
       "Allison, Miss. Helen Loraine                          1         0  female   \n",
       "Allison, Mr. Hudson Joshua Creighton                  1         0    male   \n",
       "Allison, Mrs. Hudson J C (Bessie Waldo Daniels)       1         0  female   \n",
       "...                                                 ...       ...     ...   \n",
       "Zabour, Miss. Hileni                                  3         0  female   \n",
       "Zabour, Miss. Thamine                                 3         0  female   \n",
       "Zakarian, Mr. Mapriededer                             3         0    male   \n",
       "Zakarian, Mr. Ortin                                   3         0    male   \n",
       "Zimmerman, Mr. Leo                                    3         0    male   \n",
       "\n",
       "                                                   age  sibsp  parch  ticket  \\\n",
       "name                                                                           \n",
       "Allen, Miss. Elisabeth Walton                    29.00      0      0   24160   \n",
       "Allison, Master. Hudson Trevor                    0.92      1      2  113781   \n",
       "Allison, Miss. Helen Loraine                      2.00      1      2  113781   \n",
       "Allison, Mr. Hudson Joshua Creighton             30.00      1      2  113781   \n",
       "Allison, Mrs. Hudson J C (Bessie Waldo Daniels)  25.00      1      2  113781   \n",
       "...                                                ...    ...    ...     ...   \n",
       "Zabour, Miss. Hileni                             14.50      1      0    2665   \n",
       "Zabour, Miss. Thamine                              NaN      1      0    2665   \n",
       "Zakarian, Mr. Mapriededer                        26.50      0      0    2656   \n",
       "Zakarian, Mr. Ortin                              27.00      0      0    2670   \n",
       "Zimmerman, Mr. Leo                               29.00      0      0  315082   \n",
       "\n",
       "                                                     fare    cabin embarked  \\\n",
       "name                                                                          \n",
       "Allen, Miss. Elisabeth Walton                    211.3375       B5        S   \n",
       "Allison, Master. Hudson Trevor                   151.5500  C22 C26        S   \n",
       "Allison, Miss. Helen Loraine                     151.5500  C22 C26        S   \n",
       "Allison, Mr. Hudson Joshua Creighton             151.5500  C22 C26        S   \n",
       "Allison, Mrs. Hudson J C (Bessie Waldo Daniels)  151.5500  C22 C26        S   \n",
       "...                                                   ...      ...      ...   \n",
       "Zabour, Miss. Hileni                              14.4542      NaN        C   \n",
       "Zabour, Miss. Thamine                             14.4542      NaN        C   \n",
       "Zakarian, Mr. Mapriededer                          7.2250      NaN        C   \n",
       "Zakarian, Mr. Ortin                                7.2250      NaN        C   \n",
       "Zimmerman, Mr. Leo                                 7.8750      NaN        S   \n",
       "\n",
       "                                                boat   body  \\\n",
       "name                                                          \n",
       "Allen, Miss. Elisabeth Walton                      2    NaN   \n",
       "Allison, Master. Hudson Trevor                    11    NaN   \n",
       "Allison, Miss. Helen Loraine                     NaN    NaN   \n",
       "Allison, Mr. Hudson Joshua Creighton             NaN  135.0   \n",
       "Allison, Mrs. Hudson J C (Bessie Waldo Daniels)  NaN    NaN   \n",
       "...                                              ...    ...   \n",
       "Zabour, Miss. Hileni                             NaN  328.0   \n",
       "Zabour, Miss. Thamine                            NaN    NaN   \n",
       "Zakarian, Mr. Mapriededer                        NaN  304.0   \n",
       "Zakarian, Mr. Ortin                              NaN    NaN   \n",
       "Zimmerman, Mr. Leo                               NaN    NaN   \n",
       "\n",
       "                                                                       home.dest  \n",
       "name                                                                              \n",
       "Allen, Miss. Elisabeth Walton                                       St Louis, MO  \n",
       "Allison, Master. Hudson Trevor                   Montreal, PQ / Chesterville, ON  \n",
       "Allison, Miss. Helen Loraine                     Montreal, PQ / Chesterville, ON  \n",
       "Allison, Mr. Hudson Joshua Creighton             Montreal, PQ / Chesterville, ON  \n",
       "Allison, Mrs. Hudson J C (Bessie Waldo Daniels)  Montreal, PQ / Chesterville, ON  \n",
       "...                                                                          ...  \n",
       "Zabour, Miss. Hileni                                                         NaN  \n",
       "Zabour, Miss. Thamine                                                        NaN  \n",
       "Zakarian, Mr. Mapriededer                                                    NaN  \n",
       "Zakarian, Mr. Ortin                                                          NaN  \n",
       "Zimmerman, Mr. Leo                                                           NaN  \n",
       "\n",
       "[1309 rows x 13 columns]"
      ]
     },
     "execution_count": 21,
     "metadata": {},
     "output_type": "execute_result"
    }
   ],
   "source": [
    "titanic_indexed = titanic.set_index('name')\n",
    "titanic_indexed"
   ]
  },
  {
   "cell_type": "code",
   "execution_count": 22,
   "metadata": {},
   "outputs": [
    {
     "data": {
      "text/plain": [
       "0      0\n",
       "1    500\n",
       "Name: survived, dtype: int64"
      ]
     },
     "execution_count": 22,
     "metadata": {},
     "output_type": "execute_result"
    }
   ],
   "source": [
    "titanic_indexed['survived'].groupby([list_survived]).sum()"
   ]
  },
  {
   "cell_type": "code",
   "execution_count": null,
   "metadata": {},
   "outputs": [],
   "source": []
  },
  {
   "cell_type": "markdown",
   "metadata": {},
   "source": [
    "4. Group the titanic data based on ['sex', 'name'] and find the total number of people survived"
   ]
  },
  {
   "cell_type": "code",
   "execution_count": 23,
   "metadata": {},
   "outputs": [
    {
     "data": {
      "text/html": [
       "<div>\n",
       "<style scoped>\n",
       "    .dataframe tbody tr th:only-of-type {\n",
       "        vertical-align: middle;\n",
       "    }\n",
       "\n",
       "    .dataframe tbody tr th {\n",
       "        vertical-align: top;\n",
       "    }\n",
       "\n",
       "    .dataframe thead th {\n",
       "        text-align: right;\n",
       "    }\n",
       "</style>\n",
       "<table border=\"1\" class=\"dataframe\">\n",
       "  <thead>\n",
       "    <tr style=\"text-align: right;\">\n",
       "      <th></th>\n",
       "      <th></th>\n",
       "      <th>pclass</th>\n",
       "      <th>survived</th>\n",
       "      <th>age</th>\n",
       "      <th>sibsp</th>\n",
       "      <th>parch</th>\n",
       "      <th>ticket</th>\n",
       "      <th>fare</th>\n",
       "      <th>cabin</th>\n",
       "      <th>embarked</th>\n",
       "      <th>boat</th>\n",
       "      <th>body</th>\n",
       "      <th>home.dest</th>\n",
       "    </tr>\n",
       "    <tr>\n",
       "      <th>sex</th>\n",
       "      <th>name</th>\n",
       "      <th></th>\n",
       "      <th></th>\n",
       "      <th></th>\n",
       "      <th></th>\n",
       "      <th></th>\n",
       "      <th></th>\n",
       "      <th></th>\n",
       "      <th></th>\n",
       "      <th></th>\n",
       "      <th></th>\n",
       "      <th></th>\n",
       "      <th></th>\n",
       "    </tr>\n",
       "  </thead>\n",
       "  <tbody>\n",
       "    <tr>\n",
       "      <th>female</th>\n",
       "      <th>Allen, Miss. Elisabeth Walton</th>\n",
       "      <td>1</td>\n",
       "      <td>1</td>\n",
       "      <td>29.00</td>\n",
       "      <td>0</td>\n",
       "      <td>0</td>\n",
       "      <td>24160</td>\n",
       "      <td>211.3375</td>\n",
       "      <td>B5</td>\n",
       "      <td>S</td>\n",
       "      <td>2</td>\n",
       "      <td>NaN</td>\n",
       "      <td>St Louis, MO</td>\n",
       "    </tr>\n",
       "    <tr>\n",
       "      <th>male</th>\n",
       "      <th>Allison, Master. Hudson Trevor</th>\n",
       "      <td>1</td>\n",
       "      <td>1</td>\n",
       "      <td>0.92</td>\n",
       "      <td>1</td>\n",
       "      <td>2</td>\n",
       "      <td>113781</td>\n",
       "      <td>151.5500</td>\n",
       "      <td>C22 C26</td>\n",
       "      <td>S</td>\n",
       "      <td>11</td>\n",
       "      <td>NaN</td>\n",
       "      <td>Montreal, PQ / Chesterville, ON</td>\n",
       "    </tr>\n",
       "    <tr>\n",
       "      <th>female</th>\n",
       "      <th>Allison, Miss. Helen Loraine</th>\n",
       "      <td>1</td>\n",
       "      <td>0</td>\n",
       "      <td>2.00</td>\n",
       "      <td>1</td>\n",
       "      <td>2</td>\n",
       "      <td>113781</td>\n",
       "      <td>151.5500</td>\n",
       "      <td>C22 C26</td>\n",
       "      <td>S</td>\n",
       "      <td>NaN</td>\n",
       "      <td>NaN</td>\n",
       "      <td>Montreal, PQ / Chesterville, ON</td>\n",
       "    </tr>\n",
       "    <tr>\n",
       "      <th>male</th>\n",
       "      <th>Allison, Mr. Hudson Joshua Creighton</th>\n",
       "      <td>1</td>\n",
       "      <td>0</td>\n",
       "      <td>30.00</td>\n",
       "      <td>1</td>\n",
       "      <td>2</td>\n",
       "      <td>113781</td>\n",
       "      <td>151.5500</td>\n",
       "      <td>C22 C26</td>\n",
       "      <td>S</td>\n",
       "      <td>NaN</td>\n",
       "      <td>135.0</td>\n",
       "      <td>Montreal, PQ / Chesterville, ON</td>\n",
       "    </tr>\n",
       "    <tr>\n",
       "      <th rowspan=\"4\" valign=\"top\">female</th>\n",
       "      <th>Allison, Mrs. Hudson J C (Bessie Waldo Daniels)</th>\n",
       "      <td>1</td>\n",
       "      <td>0</td>\n",
       "      <td>25.00</td>\n",
       "      <td>1</td>\n",
       "      <td>2</td>\n",
       "      <td>113781</td>\n",
       "      <td>151.5500</td>\n",
       "      <td>C22 C26</td>\n",
       "      <td>S</td>\n",
       "      <td>NaN</td>\n",
       "      <td>NaN</td>\n",
       "      <td>Montreal, PQ / Chesterville, ON</td>\n",
       "    </tr>\n",
       "    <tr>\n",
       "      <th>...</th>\n",
       "      <td>...</td>\n",
       "      <td>...</td>\n",
       "      <td>...</td>\n",
       "      <td>...</td>\n",
       "      <td>...</td>\n",
       "      <td>...</td>\n",
       "      <td>...</td>\n",
       "      <td>...</td>\n",
       "      <td>...</td>\n",
       "      <td>...</td>\n",
       "      <td>...</td>\n",
       "      <td>...</td>\n",
       "    </tr>\n",
       "    <tr>\n",
       "      <th>Zabour, Miss. Hileni</th>\n",
       "      <td>3</td>\n",
       "      <td>0</td>\n",
       "      <td>14.50</td>\n",
       "      <td>1</td>\n",
       "      <td>0</td>\n",
       "      <td>2665</td>\n",
       "      <td>14.4542</td>\n",
       "      <td>NaN</td>\n",
       "      <td>C</td>\n",
       "      <td>NaN</td>\n",
       "      <td>328.0</td>\n",
       "      <td>NaN</td>\n",
       "    </tr>\n",
       "    <tr>\n",
       "      <th>Zabour, Miss. Thamine</th>\n",
       "      <td>3</td>\n",
       "      <td>0</td>\n",
       "      <td>NaN</td>\n",
       "      <td>1</td>\n",
       "      <td>0</td>\n",
       "      <td>2665</td>\n",
       "      <td>14.4542</td>\n",
       "      <td>NaN</td>\n",
       "      <td>C</td>\n",
       "      <td>NaN</td>\n",
       "      <td>NaN</td>\n",
       "      <td>NaN</td>\n",
       "    </tr>\n",
       "    <tr>\n",
       "      <th rowspan=\"3\" valign=\"top\">male</th>\n",
       "      <th>Zakarian, Mr. Mapriededer</th>\n",
       "      <td>3</td>\n",
       "      <td>0</td>\n",
       "      <td>26.50</td>\n",
       "      <td>0</td>\n",
       "      <td>0</td>\n",
       "      <td>2656</td>\n",
       "      <td>7.2250</td>\n",
       "      <td>NaN</td>\n",
       "      <td>C</td>\n",
       "      <td>NaN</td>\n",
       "      <td>304.0</td>\n",
       "      <td>NaN</td>\n",
       "    </tr>\n",
       "    <tr>\n",
       "      <th>Zakarian, Mr. Ortin</th>\n",
       "      <td>3</td>\n",
       "      <td>0</td>\n",
       "      <td>27.00</td>\n",
       "      <td>0</td>\n",
       "      <td>0</td>\n",
       "      <td>2670</td>\n",
       "      <td>7.2250</td>\n",
       "      <td>NaN</td>\n",
       "      <td>C</td>\n",
       "      <td>NaN</td>\n",
       "      <td>NaN</td>\n",
       "      <td>NaN</td>\n",
       "    </tr>\n",
       "    <tr>\n",
       "      <th>Zimmerman, Mr. Leo</th>\n",
       "      <td>3</td>\n",
       "      <td>0</td>\n",
       "      <td>29.00</td>\n",
       "      <td>0</td>\n",
       "      <td>0</td>\n",
       "      <td>315082</td>\n",
       "      <td>7.8750</td>\n",
       "      <td>NaN</td>\n",
       "      <td>S</td>\n",
       "      <td>NaN</td>\n",
       "      <td>NaN</td>\n",
       "      <td>NaN</td>\n",
       "    </tr>\n",
       "  </tbody>\n",
       "</table>\n",
       "<p>1309 rows × 12 columns</p>\n",
       "</div>"
      ],
      "text/plain": [
       "                                                        pclass  survived  \\\n",
       "sex    name                                                                \n",
       "female Allen, Miss. Elisabeth Walton                         1         1   \n",
       "male   Allison, Master. Hudson Trevor                        1         1   \n",
       "female Allison, Miss. Helen Loraine                          1         0   \n",
       "male   Allison, Mr. Hudson Joshua Creighton                  1         0   \n",
       "female Allison, Mrs. Hudson J C (Bessie Waldo Daniels)       1         0   \n",
       "...                                                        ...       ...   \n",
       "       Zabour, Miss. Hileni                                  3         0   \n",
       "       Zabour, Miss. Thamine                                 3         0   \n",
       "male   Zakarian, Mr. Mapriededer                             3         0   \n",
       "       Zakarian, Mr. Ortin                                   3         0   \n",
       "       Zimmerman, Mr. Leo                                    3         0   \n",
       "\n",
       "                                                          age  sibsp  parch  \\\n",
       "sex    name                                                                   \n",
       "female Allen, Miss. Elisabeth Walton                    29.00      0      0   \n",
       "male   Allison, Master. Hudson Trevor                    0.92      1      2   \n",
       "female Allison, Miss. Helen Loraine                      2.00      1      2   \n",
       "male   Allison, Mr. Hudson Joshua Creighton             30.00      1      2   \n",
       "female Allison, Mrs. Hudson J C (Bessie Waldo Daniels)  25.00      1      2   \n",
       "...                                                       ...    ...    ...   \n",
       "       Zabour, Miss. Hileni                             14.50      1      0   \n",
       "       Zabour, Miss. Thamine                              NaN      1      0   \n",
       "male   Zakarian, Mr. Mapriededer                        26.50      0      0   \n",
       "       Zakarian, Mr. Ortin                              27.00      0      0   \n",
       "       Zimmerman, Mr. Leo                               29.00      0      0   \n",
       "\n",
       "                                                        ticket      fare  \\\n",
       "sex    name                                                                \n",
       "female Allen, Miss. Elisabeth Walton                     24160  211.3375   \n",
       "male   Allison, Master. Hudson Trevor                   113781  151.5500   \n",
       "female Allison, Miss. Helen Loraine                     113781  151.5500   \n",
       "male   Allison, Mr. Hudson Joshua Creighton             113781  151.5500   \n",
       "female Allison, Mrs. Hudson J C (Bessie Waldo Daniels)  113781  151.5500   \n",
       "...                                                        ...       ...   \n",
       "       Zabour, Miss. Hileni                               2665   14.4542   \n",
       "       Zabour, Miss. Thamine                              2665   14.4542   \n",
       "male   Zakarian, Mr. Mapriededer                          2656    7.2250   \n",
       "       Zakarian, Mr. Ortin                                2670    7.2250   \n",
       "       Zimmerman, Mr. Leo                               315082    7.8750   \n",
       "\n",
       "                                                          cabin embarked boat  \\\n",
       "sex    name                                                                     \n",
       "female Allen, Miss. Elisabeth Walton                         B5        S    2   \n",
       "male   Allison, Master. Hudson Trevor                   C22 C26        S   11   \n",
       "female Allison, Miss. Helen Loraine                     C22 C26        S  NaN   \n",
       "male   Allison, Mr. Hudson Joshua Creighton             C22 C26        S  NaN   \n",
       "female Allison, Mrs. Hudson J C (Bessie Waldo Daniels)  C22 C26        S  NaN   \n",
       "...                                                         ...      ...  ...   \n",
       "       Zabour, Miss. Hileni                                 NaN        C  NaN   \n",
       "       Zabour, Miss. Thamine                                NaN        C  NaN   \n",
       "male   Zakarian, Mr. Mapriededer                            NaN        C  NaN   \n",
       "       Zakarian, Mr. Ortin                                  NaN        C  NaN   \n",
       "       Zimmerman, Mr. Leo                                   NaN        S  NaN   \n",
       "\n",
       "                                                         body  \\\n",
       "sex    name                                                     \n",
       "female Allen, Miss. Elisabeth Walton                      NaN   \n",
       "male   Allison, Master. Hudson Trevor                     NaN   \n",
       "female Allison, Miss. Helen Loraine                       NaN   \n",
       "male   Allison, Mr. Hudson Joshua Creighton             135.0   \n",
       "female Allison, Mrs. Hudson J C (Bessie Waldo Daniels)    NaN   \n",
       "...                                                       ...   \n",
       "       Zabour, Miss. Hileni                             328.0   \n",
       "       Zabour, Miss. Thamine                              NaN   \n",
       "male   Zakarian, Mr. Mapriededer                        304.0   \n",
       "       Zakarian, Mr. Ortin                                NaN   \n",
       "       Zimmerman, Mr. Leo                                 NaN   \n",
       "\n",
       "                                                                              home.dest  \n",
       "sex    name                                                                              \n",
       "female Allen, Miss. Elisabeth Walton                                       St Louis, MO  \n",
       "male   Allison, Master. Hudson Trevor                   Montreal, PQ / Chesterville, ON  \n",
       "female Allison, Miss. Helen Loraine                     Montreal, PQ / Chesterville, ON  \n",
       "male   Allison, Mr. Hudson Joshua Creighton             Montreal, PQ / Chesterville, ON  \n",
       "female Allison, Mrs. Hudson J C (Bessie Waldo Daniels)  Montreal, PQ / Chesterville, ON  \n",
       "...                                                                                 ...  \n",
       "       Zabour, Miss. Hileni                                                         NaN  \n",
       "       Zabour, Miss. Thamine                                                        NaN  \n",
       "male   Zakarian, Mr. Mapriededer                                                    NaN  \n",
       "       Zakarian, Mr. Ortin                                                          NaN  \n",
       "       Zimmerman, Mr. Leo                                                           NaN  \n",
       "\n",
       "[1309 rows x 12 columns]"
      ]
     },
     "execution_count": 23,
     "metadata": {},
     "output_type": "execute_result"
    }
   ],
   "source": [
    "titanic_3 = titanic.set_index(['sex', 'name'])\n",
    "titanic_3"
   ]
  },
  {
   "cell_type": "code",
   "execution_count": 24,
   "metadata": {},
   "outputs": [
    {
     "data": {
      "text/html": [
       "<div>\n",
       "<style scoped>\n",
       "    .dataframe tbody tr th:only-of-type {\n",
       "        vertical-align: middle;\n",
       "    }\n",
       "\n",
       "    .dataframe tbody tr th {\n",
       "        vertical-align: top;\n",
       "    }\n",
       "\n",
       "    .dataframe thead th {\n",
       "        text-align: right;\n",
       "    }\n",
       "</style>\n",
       "<table border=\"1\" class=\"dataframe\">\n",
       "  <thead>\n",
       "    <tr style=\"text-align: right;\">\n",
       "      <th></th>\n",
       "      <th>survived</th>\n",
       "    </tr>\n",
       "    <tr>\n",
       "      <th>sex</th>\n",
       "      <th></th>\n",
       "    </tr>\n",
       "  </thead>\n",
       "  <tbody>\n",
       "    <tr>\n",
       "      <th>female</th>\n",
       "      <td>339</td>\n",
       "    </tr>\n",
       "    <tr>\n",
       "      <th>male</th>\n",
       "      <td>161</td>\n",
       "    </tr>\n",
       "  </tbody>\n",
       "</table>\n",
       "</div>"
      ],
      "text/plain": [
       "        survived\n",
       "sex             \n",
       "female       339\n",
       "male         161"
      ]
     },
     "execution_count": 24,
     "metadata": {},
     "output_type": "execute_result"
    }
   ],
   "source": [
    "titanic_3[['survived']].groupby(level='sex', axis=0).sum()"
   ]
  },
  {
   "cell_type": "code",
   "execution_count": 25,
   "metadata": {},
   "outputs": [
    {
     "data": {
      "text/html": [
       "<div>\n",
       "<style scoped>\n",
       "    .dataframe tbody tr th:only-of-type {\n",
       "        vertical-align: middle;\n",
       "    }\n",
       "\n",
       "    .dataframe tbody tr th {\n",
       "        vertical-align: top;\n",
       "    }\n",
       "\n",
       "    .dataframe thead th {\n",
       "        text-align: right;\n",
       "    }\n",
       "</style>\n",
       "<table border=\"1\" class=\"dataframe\">\n",
       "  <thead>\n",
       "    <tr style=\"text-align: right;\">\n",
       "      <th></th>\n",
       "      <th>survived</th>\n",
       "    </tr>\n",
       "    <tr>\n",
       "      <th>sex</th>\n",
       "      <th></th>\n",
       "    </tr>\n",
       "  </thead>\n",
       "  <tbody>\n",
       "    <tr>\n",
       "      <th>female</th>\n",
       "      <td>339</td>\n",
       "    </tr>\n",
       "    <tr>\n",
       "      <th>male</th>\n",
       "      <td>161</td>\n",
       "    </tr>\n",
       "  </tbody>\n",
       "</table>\n",
       "</div>"
      ],
      "text/plain": [
       "        survived\n",
       "sex             \n",
       "female       339\n",
       "male         161"
      ]
     },
     "execution_count": 25,
     "metadata": {},
     "output_type": "execute_result"
    }
   ],
   "source": [
    "titanic_3.groupby(level='sex', axis=0)[['survived']].sum()"
   ]
  },
  {
   "cell_type": "code",
   "execution_count": null,
   "metadata": {},
   "outputs": [],
   "source": []
  },
  {
   "cell_type": "markdown",
   "metadata": {},
   "source": [
    "5. Find the most used type of 'embarked' by the passengers"
   ]
  },
  {
   "cell_type": "code",
   "execution_count": 26,
   "metadata": {},
   "outputs": [
    {
     "data": {
      "text/plain": [
       "S    914\n",
       "C    270\n",
       "Q    123\n",
       "Name: embarked, dtype: int64"
      ]
     },
     "execution_count": 26,
     "metadata": {},
     "output_type": "execute_result"
    }
   ],
   "source": [
    "titanic['embarked'].value_counts()"
   ]
  },
  {
   "cell_type": "code",
   "execution_count": null,
   "metadata": {},
   "outputs": [],
   "source": []
  },
  {
   "cell_type": "markdown",
   "metadata": {},
   "source": [
    "6. Find the maximum age and the maximum pclass type"
   ]
  },
  {
   "cell_type": "code",
   "execution_count": 27,
   "metadata": {},
   "outputs": [
    {
     "data": {
      "text/plain": [
       "80.0"
      ]
     },
     "execution_count": 27,
     "metadata": {},
     "output_type": "execute_result"
    }
   ],
   "source": [
    "titanic['age'].max()"
   ]
  },
  {
   "cell_type": "code",
   "execution_count": 28,
   "metadata": {},
   "outputs": [
    {
     "data": {
      "text/plain": [
       "3"
      ]
     },
     "execution_count": 28,
     "metadata": {},
     "output_type": "execute_result"
    }
   ],
   "source": [
    "titanic['pclass'].max()"
   ]
  },
  {
   "cell_type": "code",
   "execution_count": null,
   "metadata": {},
   "outputs": [],
   "source": []
  },
  {
   "cell_type": "markdown",
   "metadata": {},
   "source": [
    "7. Find the top 'cabins' in the titanic ship using describe method on the column 'cabin'"
   ]
  },
  {
   "cell_type": "code",
   "execution_count": 29,
   "metadata": {},
   "outputs": [
    {
     "data": {
      "text/plain": [
       "count             295\n",
       "unique            186\n",
       "top       C23 C25 C27\n",
       "freq                6\n",
       "Name: cabin, dtype: object"
      ]
     },
     "execution_count": 29,
     "metadata": {},
     "output_type": "execute_result"
    }
   ],
   "source": [
    "titanic['cabin'].describe()"
   ]
  },
  {
   "cell_type": "code",
   "execution_count": null,
   "metadata": {},
   "outputs": [],
   "source": []
  }
 ],
 "metadata": {
  "kernelspec": {
   "display_name": "Python 3 (ipykernel)",
   "language": "python",
   "name": "python3"
  },
  "language_info": {
   "codemirror_mode": {
    "name": "ipython",
    "version": 3
   },
   "file_extension": ".py",
   "mimetype": "text/x-python",
   "name": "python",
   "nbconvert_exporter": "python",
   "pygments_lexer": "ipython3",
   "version": "3.8.5"
  }
 },
 "nbformat": 4,
 "nbformat_minor": 2
}
