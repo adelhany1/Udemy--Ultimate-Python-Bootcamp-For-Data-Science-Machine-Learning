{
 "cells": [
  {
   "cell_type": "markdown",
   "metadata": {},
   "source": [
    "# Practice_Part_08: Time Series Analysis Solution"
   ]
  },
  {
   "cell_type": "code",
   "execution_count": null,
   "metadata": {},
   "outputs": [],
   "source": []
  },
  {
   "cell_type": "markdown",
   "metadata": {},
   "source": [
    "#### Exercise_01 Solution\n",
    "For the global_superstor_2016 data prsent in 'data/global_superstore':\n",
    "1. Import the datetime module from datetime and convert the columns 'Order Date' and 'Ship Date' to the DatetimeIndex objects\n",
    "2. Check the DatetimeIndex objects converted for the null values\n",
    "3. Convert the DatetimeIndex objects to a Series objects with the names 'Order_Date' and 'Ship_Date'\n",
    "4. Join the datetime Series objects created just above with the global_superstore_2016 columns ['Row ID', 'Order ID', 'Ship Mode', 'Customer ID', 'Customer Name', 'Segment', 'Category']"
   ]
  },
  {
   "cell_type": "code",
   "execution_count": 1,
   "metadata": {},
   "outputs": [],
   "source": [
    "import pandas as pd\n",
    "import numpy as np"
   ]
  },
  {
   "cell_type": "markdown",
   "metadata": {},
   "source": [
    "1. Import the datetime module from datetime and convert the columns 'Order Date' and 'Ship Date' to the DatetimeIndex objects"
   ]
  },
  {
   "cell_type": "code",
   "execution_count": 2,
   "metadata": {},
   "outputs": [
    {
     "name": "stdout",
     "output_type": "stream",
     "text": [
      "(51290, 24)\n"
     ]
    }
   ],
   "source": [
    "global_data = pd.read_csv('data/global_superstore/global_superstore_2016.csv', encoding='latin1')\n",
    "print(global_data.shape)"
   ]
  },
  {
   "cell_type": "code",
   "execution_count": 3,
   "metadata": {},
   "outputs": [
    {
     "data": {
      "text/html": [
       "<div>\n",
       "<style scoped>\n",
       "    .dataframe tbody tr th:only-of-type {\n",
       "        vertical-align: middle;\n",
       "    }\n",
       "\n",
       "    .dataframe tbody tr th {\n",
       "        vertical-align: top;\n",
       "    }\n",
       "\n",
       "    .dataframe thead th {\n",
       "        text-align: right;\n",
       "    }\n",
       "</style>\n",
       "<table border=\"1\" class=\"dataframe\">\n",
       "  <thead>\n",
       "    <tr style=\"text-align: right;\">\n",
       "      <th></th>\n",
       "      <th>Row ID</th>\n",
       "      <th>Order ID</th>\n",
       "      <th>Order Date</th>\n",
       "      <th>Ship Date</th>\n",
       "      <th>Ship Mode</th>\n",
       "      <th>Customer ID</th>\n",
       "      <th>Customer Name</th>\n",
       "      <th>Segment</th>\n",
       "      <th>Postal Code</th>\n",
       "      <th>City</th>\n",
       "      <th>...</th>\n",
       "      <th>Product ID</th>\n",
       "      <th>Category</th>\n",
       "      <th>Sub-Category</th>\n",
       "      <th>Product Name</th>\n",
       "      <th>Sales</th>\n",
       "      <th>Quantity</th>\n",
       "      <th>Discount</th>\n",
       "      <th>Profit</th>\n",
       "      <th>Shipping Cost</th>\n",
       "      <th>Order Priority</th>\n",
       "    </tr>\n",
       "  </thead>\n",
       "  <tbody>\n",
       "    <tr>\n",
       "      <th>0</th>\n",
       "      <td>40098</td>\n",
       "      <td>CA-2014-AB10015140-41954</td>\n",
       "      <td>11-11-2014</td>\n",
       "      <td>11/13/2014</td>\n",
       "      <td>First Class</td>\n",
       "      <td>AB-100151402</td>\n",
       "      <td>Aaron Bergman</td>\n",
       "      <td>Consumer</td>\n",
       "      <td>73120.0</td>\n",
       "      <td>Oklahoma City</td>\n",
       "      <td>...</td>\n",
       "      <td>TEC-PH-5816</td>\n",
       "      <td>Technology</td>\n",
       "      <td>Phones</td>\n",
       "      <td>Samsung Convoy 3</td>\n",
       "      <td>$221.98</td>\n",
       "      <td>2</td>\n",
       "      <td>0.0</td>\n",
       "      <td>$62.15</td>\n",
       "      <td>40.77</td>\n",
       "      <td>High</td>\n",
       "    </tr>\n",
       "    <tr>\n",
       "      <th>1</th>\n",
       "      <td>26341</td>\n",
       "      <td>IN-2014-JR162107-41675</td>\n",
       "      <td>02-05-2014</td>\n",
       "      <td>02-07-2014</td>\n",
       "      <td>Second Class</td>\n",
       "      <td>JR-162107</td>\n",
       "      <td>Justin Ritter</td>\n",
       "      <td>Corporate</td>\n",
       "      <td>NaN</td>\n",
       "      <td>Wollongong</td>\n",
       "      <td>...</td>\n",
       "      <td>FUR-CH-5379</td>\n",
       "      <td>Furniture</td>\n",
       "      <td>Chairs</td>\n",
       "      <td>Novimex Executive Leather Armchair, Black</td>\n",
       "      <td>$3,709.40</td>\n",
       "      <td>9</td>\n",
       "      <td>0.1</td>\n",
       "      <td>($288.77)</td>\n",
       "      <td>923.63</td>\n",
       "      <td>Critical</td>\n",
       "    </tr>\n",
       "    <tr>\n",
       "      <th>2</th>\n",
       "      <td>25330</td>\n",
       "      <td>IN-2014-CR127307-41929</td>\n",
       "      <td>10/17/2014</td>\n",
       "      <td>10/18/2014</td>\n",
       "      <td>First Class</td>\n",
       "      <td>CR-127307</td>\n",
       "      <td>Craig Reiter</td>\n",
       "      <td>Consumer</td>\n",
       "      <td>NaN</td>\n",
       "      <td>Brisbane</td>\n",
       "      <td>...</td>\n",
       "      <td>TEC-PH-5356</td>\n",
       "      <td>Technology</td>\n",
       "      <td>Phones</td>\n",
       "      <td>Nokia Smart Phone, with Caller ID</td>\n",
       "      <td>$5,175.17</td>\n",
       "      <td>9</td>\n",
       "      <td>0.1</td>\n",
       "      <td>$919.97</td>\n",
       "      <td>915.49</td>\n",
       "      <td>Medium</td>\n",
       "    </tr>\n",
       "    <tr>\n",
       "      <th>3</th>\n",
       "      <td>13524</td>\n",
       "      <td>ES-2014-KM1637548-41667</td>\n",
       "      <td>1/28/2014</td>\n",
       "      <td>1/30/2014</td>\n",
       "      <td>First Class</td>\n",
       "      <td>KM-1637548</td>\n",
       "      <td>Katherine Murray</td>\n",
       "      <td>Home Office</td>\n",
       "      <td>NaN</td>\n",
       "      <td>Berlin</td>\n",
       "      <td>...</td>\n",
       "      <td>TEC-PH-5267</td>\n",
       "      <td>Technology</td>\n",
       "      <td>Phones</td>\n",
       "      <td>Motorola Smart Phone, Cordless</td>\n",
       "      <td>$2,892.51</td>\n",
       "      <td>5</td>\n",
       "      <td>0.1</td>\n",
       "      <td>($96.54)</td>\n",
       "      <td>910.16</td>\n",
       "      <td>Medium</td>\n",
       "    </tr>\n",
       "    <tr>\n",
       "      <th>4</th>\n",
       "      <td>47221</td>\n",
       "      <td>SG-2014-RH9495111-41948</td>\n",
       "      <td>11-05-2014</td>\n",
       "      <td>11-06-2014</td>\n",
       "      <td>Same Day</td>\n",
       "      <td>RH-9495111</td>\n",
       "      <td>Rick Hansen</td>\n",
       "      <td>Consumer</td>\n",
       "      <td>NaN</td>\n",
       "      <td>Dakar</td>\n",
       "      <td>...</td>\n",
       "      <td>TEC-CO-6011</td>\n",
       "      <td>Technology</td>\n",
       "      <td>Copiers</td>\n",
       "      <td>Sharp Wireless Fax, High-Speed</td>\n",
       "      <td>$2,832.96</td>\n",
       "      <td>8</td>\n",
       "      <td>0.0</td>\n",
       "      <td>$311.52</td>\n",
       "      <td>903.04</td>\n",
       "      <td>Critical</td>\n",
       "    </tr>\n",
       "  </tbody>\n",
       "</table>\n",
       "<p>5 rows × 24 columns</p>\n",
       "</div>"
      ],
      "text/plain": [
       "   Row ID                  Order ID  Order Date   Ship Date     Ship Mode  \\\n",
       "0   40098  CA-2014-AB10015140-41954  11-11-2014  11/13/2014   First Class   \n",
       "1   26341    IN-2014-JR162107-41675  02-05-2014  02-07-2014  Second Class   \n",
       "2   25330    IN-2014-CR127307-41929  10/17/2014  10/18/2014   First Class   \n",
       "3   13524   ES-2014-KM1637548-41667   1/28/2014   1/30/2014   First Class   \n",
       "4   47221   SG-2014-RH9495111-41948  11-05-2014  11-06-2014      Same Day   \n",
       "\n",
       "    Customer ID     Customer Name      Segment  Postal Code           City  \\\n",
       "0  AB-100151402     Aaron Bergman     Consumer      73120.0  Oklahoma City   \n",
       "1     JR-162107     Justin Ritter    Corporate          NaN     Wollongong   \n",
       "2     CR-127307      Craig Reiter     Consumer          NaN       Brisbane   \n",
       "3    KM-1637548  Katherine Murray  Home Office          NaN         Berlin   \n",
       "4    RH-9495111       Rick Hansen     Consumer          NaN          Dakar   \n",
       "\n",
       "   ...   Product ID    Category Sub-Category  \\\n",
       "0  ...  TEC-PH-5816  Technology       Phones   \n",
       "1  ...  FUR-CH-5379   Furniture       Chairs   \n",
       "2  ...  TEC-PH-5356  Technology       Phones   \n",
       "3  ...  TEC-PH-5267  Technology       Phones   \n",
       "4  ...  TEC-CO-6011  Technology      Copiers   \n",
       "\n",
       "                                Product Name       Sales Quantity Discount  \\\n",
       "0                           Samsung Convoy 3    $221.98         2      0.0   \n",
       "1  Novimex Executive Leather Armchair, Black  $3,709.40         9      0.1   \n",
       "2          Nokia Smart Phone, with Caller ID  $5,175.17         9      0.1   \n",
       "3             Motorola Smart Phone, Cordless  $2,892.51         5      0.1   \n",
       "4             Sharp Wireless Fax, High-Speed  $2,832.96         8      0.0   \n",
       "\n",
       "      Profit Shipping Cost  Order Priority  \n",
       "0    $62.15          40.77            High  \n",
       "1  ($288.77)        923.63        Critical  \n",
       "2   $919.97         915.49          Medium  \n",
       "3   ($96.54)        910.16          Medium  \n",
       "4   $311.52         903.04        Critical  \n",
       "\n",
       "[5 rows x 24 columns]"
      ]
     },
     "execution_count": 3,
     "metadata": {},
     "output_type": "execute_result"
    }
   ],
   "source": [
    "global_data.head()"
   ]
  },
  {
   "cell_type": "code",
   "execution_count": 4,
   "metadata": {},
   "outputs": [],
   "source": [
    "from datetime import datetime"
   ]
  },
  {
   "cell_type": "code",
   "execution_count": 5,
   "metadata": {},
   "outputs": [
    {
     "data": {
      "text/plain": [
       "array(['Row ID', 'Order ID', 'Order Date', 'Ship Date', 'Ship Mode',\n",
       "       'Customer ID', 'Customer Name', 'Segment', 'Postal Code', 'City',\n",
       "       'State', 'Country', 'Region', 'Market', 'Product ID', 'Category',\n",
       "       'Sub-Category', 'Product Name', 'Sales', 'Quantity', 'Discount',\n",
       "       'Profit', 'Shipping Cost', 'Order Priority'], dtype=object)"
      ]
     },
     "execution_count": 5,
     "metadata": {},
     "output_type": "execute_result"
    }
   ],
   "source": [
    "global_data.columns.values"
   ]
  },
  {
   "cell_type": "code",
   "execution_count": 6,
   "metadata": {},
   "outputs": [
    {
     "data": {
      "text/plain": [
       "0        11-11-2014\n",
       "1        02-05-2014\n",
       "2        10/17/2014\n",
       "3         1/28/2014\n",
       "4        11-05-2014\n",
       "            ...    \n",
       "51285     6/19/2015\n",
       "51286    05-06-2014\n",
       "51287     8/26/2012\n",
       "51288     2/17/2013\n",
       "51289     5/22/2013\n",
       "Name: Order Date, Length: 51290, dtype: object"
      ]
     },
     "execution_count": 6,
     "metadata": {},
     "output_type": "execute_result"
    }
   ],
   "source": [
    "global_data['Order Date']"
   ]
  },
  {
   "cell_type": "code",
   "execution_count": 7,
   "metadata": {},
   "outputs": [
    {
     "name": "stdout",
     "output_type": "stream",
     "text": [
      "['11-11-2014', '02-05-2014', '10/17/2014', '1/28/2014', '11-05-2014', '6/28/2014', '11-06-2012', '4/14/2013', '11-11-2014', '03-06-2012', '03-06-2012', '4/19/2013', '12/26/2012', '11/13/2013', '06-06-2014', '7/31/2015', '2/19/2012', '09-08-2015', '1/31/2015', '12-05-2015']\n"
     ]
    }
   ],
   "source": [
    "order_date = global_data['Order Date'].tolist()\n",
    "print(order_date[:20])"
   ]
  },
  {
   "cell_type": "code",
   "execution_count": 8,
   "metadata": {},
   "outputs": [
    {
     "data": {
      "text/plain": [
       "DatetimeIndex(['2014-11-11', '2014-02-05', '2014-10-17', '2014-01-28',\n",
       "               '2014-11-05', '2014-06-28', '2012-11-06', '2013-04-14',\n",
       "               '2014-11-11', '2012-03-06',\n",
       "               ...\n",
       "               '2014-07-09', '2015-06-09', '2015-08-05', '2015-05-30',\n",
       "               '2013-12-28', '2015-06-19', '2014-05-06', '2012-08-26',\n",
       "               '2013-02-17', '2013-05-22'],\n",
       "              dtype='datetime64[ns]', length=51290, freq=None)"
      ]
     },
     "execution_count": 8,
     "metadata": {},
     "output_type": "execute_result"
    }
   ],
   "source": [
    "order_datetime = pd.to_datetime(order_date)\n",
    "order_datetime"
   ]
  },
  {
   "cell_type": "code",
   "execution_count": 9,
   "metadata": {},
   "outputs": [],
   "source": [
    "ship_date = global_data['Ship Date'].tolist()"
   ]
  },
  {
   "cell_type": "code",
   "execution_count": 10,
   "metadata": {},
   "outputs": [
    {
     "data": {
      "text/plain": [
       "DatetimeIndex(['2014-11-13', '2014-02-07', '2014-10-18', '2014-01-30',\n",
       "               '2014-11-06', '2014-07-01', '2012-11-08', '2013-04-18',\n",
       "               '2014-11-13', '2012-03-07',\n",
       "               ...\n",
       "               '2014-07-09', '2015-06-11', '2015-08-10', '2015-05-30',\n",
       "               '2013-12-31', '2015-06-19', '2014-05-10', '2012-08-31',\n",
       "               '2013-02-21', '2013-05-26'],\n",
       "              dtype='datetime64[ns]', length=51290, freq=None)"
      ]
     },
     "execution_count": 10,
     "metadata": {},
     "output_type": "execute_result"
    }
   ],
   "source": [
    "ship_datetime = pd.to_datetime(ship_date)\n",
    "ship_datetime"
   ]
  },
  {
   "cell_type": "code",
   "execution_count": null,
   "metadata": {},
   "outputs": [],
   "source": []
  },
  {
   "cell_type": "markdown",
   "metadata": {},
   "source": [
    "2. Check the DatetimeIndex objects converted for the null values"
   ]
  },
  {
   "cell_type": "code",
   "execution_count": 11,
   "metadata": {},
   "outputs": [
    {
     "data": {
      "text/plain": [
       "DatetimeIndex([], dtype='datetime64[ns]', freq=None)"
      ]
     },
     "execution_count": 11,
     "metadata": {},
     "output_type": "execute_result"
    }
   ],
   "source": [
    "order_datetime[order_datetime.isnull()]"
   ]
  },
  {
   "cell_type": "code",
   "execution_count": 12,
   "metadata": {},
   "outputs": [
    {
     "data": {
      "text/plain": [
       "DatetimeIndex(['2014-11-11', '2014-02-05', '2014-10-17', '2014-01-28',\n",
       "               '2014-11-05', '2014-06-28', '2012-11-06', '2013-04-14',\n",
       "               '2014-11-11', '2012-03-06',\n",
       "               ...\n",
       "               '2014-07-09', '2015-06-09', '2015-08-05', '2015-05-30',\n",
       "               '2013-12-28', '2015-06-19', '2014-05-06', '2012-08-26',\n",
       "               '2013-02-17', '2013-05-22'],\n",
       "              dtype='datetime64[ns]', length=51290, freq=None)"
      ]
     },
     "execution_count": 12,
     "metadata": {},
     "output_type": "execute_result"
    }
   ],
   "source": [
    "order_datetime[order_datetime.notnull()]"
   ]
  },
  {
   "cell_type": "code",
   "execution_count": null,
   "metadata": {},
   "outputs": [],
   "source": []
  },
  {
   "cell_type": "markdown",
   "metadata": {},
   "source": [
    "3. Convert the DatetimeIndex objects to a Series objects with the names 'Order_Date' and 'Ship_Date'"
   ]
  },
  {
   "cell_type": "code",
   "execution_count": 13,
   "metadata": {},
   "outputs": [
    {
     "data": {
      "text/plain": [
       "0   2014-11-11\n",
       "1   2014-02-05\n",
       "Name: Order_Date, dtype: datetime64[ns]"
      ]
     },
     "execution_count": 13,
     "metadata": {},
     "output_type": "execute_result"
    }
   ],
   "source": [
    "series1 = pd.Series(order_datetime, name='Order_Date')\n",
    "series2 = pd.Series(ship_datetime, name='Ship_Date')\n",
    "series1[:2]"
   ]
  },
  {
   "cell_type": "code",
   "execution_count": null,
   "metadata": {},
   "outputs": [],
   "source": []
  },
  {
   "cell_type": "markdown",
   "metadata": {},
   "source": [
    "4. Join the datetime Series objects created just above with the global_superstore_2016 columns ['Row ID', 'Order ID', 'Ship Mode', 'Customer ID', 'Customer Name', 'Segment', 'Category']"
   ]
  },
  {
   "cell_type": "code",
   "execution_count": 14,
   "metadata": {},
   "outputs": [],
   "source": [
    "data_modified = pd.concat([series1, series2, global_data['Row ID'], global_data['Order ID'], global_data['Ship Mode'], \n",
    "                           global_data['Customer ID'], global_data['Customer Name'], global_data['Segment'], \n",
    "                           global_data['Category']], axis=1)"
   ]
  },
  {
   "cell_type": "code",
   "execution_count": null,
   "metadata": {},
   "outputs": [],
   "source": []
  },
  {
   "cell_type": "markdown",
   "metadata": {},
   "source": [
    "#### Exercise_02 Solution\n",
    "For the data created in Exercise_01 to the data 'global_superstor_2016'\n",
    "1. Set the Series 'Order_Date' created as the index of the DataFrame 'data_modified'\n",
    "2. Check whether the DatetimeIndex of the DataFRame is unique or not\n",
    "3. Find the number of orders made in each year for the data 'global_superstore_2016'\n",
    "4. Group the 'indexed_data' on level '0' that is on the DatetimeIndex object and count the number of Orders made for any arbitrary date"
   ]
  },
  {
   "cell_type": "code",
   "execution_count": 15,
   "metadata": {},
   "outputs": [
    {
     "data": {
      "text/html": [
       "<div>\n",
       "<style scoped>\n",
       "    .dataframe tbody tr th:only-of-type {\n",
       "        vertical-align: middle;\n",
       "    }\n",
       "\n",
       "    .dataframe tbody tr th {\n",
       "        vertical-align: top;\n",
       "    }\n",
       "\n",
       "    .dataframe thead th {\n",
       "        text-align: right;\n",
       "    }\n",
       "</style>\n",
       "<table border=\"1\" class=\"dataframe\">\n",
       "  <thead>\n",
       "    <tr style=\"text-align: right;\">\n",
       "      <th></th>\n",
       "      <th>Order_Date</th>\n",
       "      <th>Ship_Date</th>\n",
       "      <th>Row ID</th>\n",
       "      <th>Order ID</th>\n",
       "      <th>Ship Mode</th>\n",
       "      <th>Customer ID</th>\n",
       "      <th>Customer Name</th>\n",
       "      <th>Segment</th>\n",
       "      <th>Category</th>\n",
       "    </tr>\n",
       "  </thead>\n",
       "  <tbody>\n",
       "    <tr>\n",
       "      <th>0</th>\n",
       "      <td>2014-11-11</td>\n",
       "      <td>2014-11-13</td>\n",
       "      <td>40098</td>\n",
       "      <td>CA-2014-AB10015140-41954</td>\n",
       "      <td>First Class</td>\n",
       "      <td>AB-100151402</td>\n",
       "      <td>Aaron Bergman</td>\n",
       "      <td>Consumer</td>\n",
       "      <td>Technology</td>\n",
       "    </tr>\n",
       "    <tr>\n",
       "      <th>1</th>\n",
       "      <td>2014-02-05</td>\n",
       "      <td>2014-02-07</td>\n",
       "      <td>26341</td>\n",
       "      <td>IN-2014-JR162107-41675</td>\n",
       "      <td>Second Class</td>\n",
       "      <td>JR-162107</td>\n",
       "      <td>Justin Ritter</td>\n",
       "      <td>Corporate</td>\n",
       "      <td>Furniture</td>\n",
       "    </tr>\n",
       "    <tr>\n",
       "      <th>2</th>\n",
       "      <td>2014-10-17</td>\n",
       "      <td>2014-10-18</td>\n",
       "      <td>25330</td>\n",
       "      <td>IN-2014-CR127307-41929</td>\n",
       "      <td>First Class</td>\n",
       "      <td>CR-127307</td>\n",
       "      <td>Craig Reiter</td>\n",
       "      <td>Consumer</td>\n",
       "      <td>Technology</td>\n",
       "    </tr>\n",
       "    <tr>\n",
       "      <th>3</th>\n",
       "      <td>2014-01-28</td>\n",
       "      <td>2014-01-30</td>\n",
       "      <td>13524</td>\n",
       "      <td>ES-2014-KM1637548-41667</td>\n",
       "      <td>First Class</td>\n",
       "      <td>KM-1637548</td>\n",
       "      <td>Katherine Murray</td>\n",
       "      <td>Home Office</td>\n",
       "      <td>Technology</td>\n",
       "    </tr>\n",
       "    <tr>\n",
       "      <th>4</th>\n",
       "      <td>2014-11-05</td>\n",
       "      <td>2014-11-06</td>\n",
       "      <td>47221</td>\n",
       "      <td>SG-2014-RH9495111-41948</td>\n",
       "      <td>Same Day</td>\n",
       "      <td>RH-9495111</td>\n",
       "      <td>Rick Hansen</td>\n",
       "      <td>Consumer</td>\n",
       "      <td>Technology</td>\n",
       "    </tr>\n",
       "  </tbody>\n",
       "</table>\n",
       "</div>"
      ],
      "text/plain": [
       "  Order_Date  Ship_Date  Row ID                  Order ID     Ship Mode  \\\n",
       "0 2014-11-11 2014-11-13   40098  CA-2014-AB10015140-41954   First Class   \n",
       "1 2014-02-05 2014-02-07   26341    IN-2014-JR162107-41675  Second Class   \n",
       "2 2014-10-17 2014-10-18   25330    IN-2014-CR127307-41929   First Class   \n",
       "3 2014-01-28 2014-01-30   13524   ES-2014-KM1637548-41667   First Class   \n",
       "4 2014-11-05 2014-11-06   47221   SG-2014-RH9495111-41948      Same Day   \n",
       "\n",
       "    Customer ID     Customer Name      Segment    Category  \n",
       "0  AB-100151402     Aaron Bergman     Consumer  Technology  \n",
       "1     JR-162107     Justin Ritter    Corporate   Furniture  \n",
       "2     CR-127307      Craig Reiter     Consumer  Technology  \n",
       "3    KM-1637548  Katherine Murray  Home Office  Technology  \n",
       "4    RH-9495111       Rick Hansen     Consumer  Technology  "
      ]
     },
     "execution_count": 15,
     "metadata": {},
     "output_type": "execute_result"
    }
   ],
   "source": [
    "data_modified.head()"
   ]
  },
  {
   "cell_type": "markdown",
   "metadata": {},
   "source": [
    "1. Set the Series 'Order_Date' created as the index of the DataFrame 'data_modified'"
   ]
  },
  {
   "cell_type": "code",
   "execution_count": 16,
   "metadata": {},
   "outputs": [
    {
     "data": {
      "text/html": [
       "<div>\n",
       "<style scoped>\n",
       "    .dataframe tbody tr th:only-of-type {\n",
       "        vertical-align: middle;\n",
       "    }\n",
       "\n",
       "    .dataframe tbody tr th {\n",
       "        vertical-align: top;\n",
       "    }\n",
       "\n",
       "    .dataframe thead th {\n",
       "        text-align: right;\n",
       "    }\n",
       "</style>\n",
       "<table border=\"1\" class=\"dataframe\">\n",
       "  <thead>\n",
       "    <tr style=\"text-align: right;\">\n",
       "      <th></th>\n",
       "      <th>Ship_Date</th>\n",
       "      <th>Row ID</th>\n",
       "      <th>Order ID</th>\n",
       "      <th>Ship Mode</th>\n",
       "      <th>Customer ID</th>\n",
       "      <th>Customer Name</th>\n",
       "      <th>Segment</th>\n",
       "      <th>Category</th>\n",
       "    </tr>\n",
       "    <tr>\n",
       "      <th>Order_Date</th>\n",
       "      <th></th>\n",
       "      <th></th>\n",
       "      <th></th>\n",
       "      <th></th>\n",
       "      <th></th>\n",
       "      <th></th>\n",
       "      <th></th>\n",
       "      <th></th>\n",
       "    </tr>\n",
       "  </thead>\n",
       "  <tbody>\n",
       "    <tr>\n",
       "      <th>2014-11-11</th>\n",
       "      <td>2014-11-13</td>\n",
       "      <td>40098</td>\n",
       "      <td>CA-2014-AB10015140-41954</td>\n",
       "      <td>First Class</td>\n",
       "      <td>AB-100151402</td>\n",
       "      <td>Aaron Bergman</td>\n",
       "      <td>Consumer</td>\n",
       "      <td>Technology</td>\n",
       "    </tr>\n",
       "    <tr>\n",
       "      <th>2014-02-05</th>\n",
       "      <td>2014-02-07</td>\n",
       "      <td>26341</td>\n",
       "      <td>IN-2014-JR162107-41675</td>\n",
       "      <td>Second Class</td>\n",
       "      <td>JR-162107</td>\n",
       "      <td>Justin Ritter</td>\n",
       "      <td>Corporate</td>\n",
       "      <td>Furniture</td>\n",
       "    </tr>\n",
       "    <tr>\n",
       "      <th>2014-10-17</th>\n",
       "      <td>2014-10-18</td>\n",
       "      <td>25330</td>\n",
       "      <td>IN-2014-CR127307-41929</td>\n",
       "      <td>First Class</td>\n",
       "      <td>CR-127307</td>\n",
       "      <td>Craig Reiter</td>\n",
       "      <td>Consumer</td>\n",
       "      <td>Technology</td>\n",
       "    </tr>\n",
       "    <tr>\n",
       "      <th>2014-01-28</th>\n",
       "      <td>2014-01-30</td>\n",
       "      <td>13524</td>\n",
       "      <td>ES-2014-KM1637548-41667</td>\n",
       "      <td>First Class</td>\n",
       "      <td>KM-1637548</td>\n",
       "      <td>Katherine Murray</td>\n",
       "      <td>Home Office</td>\n",
       "      <td>Technology</td>\n",
       "    </tr>\n",
       "    <tr>\n",
       "      <th>2014-11-05</th>\n",
       "      <td>2014-11-06</td>\n",
       "      <td>47221</td>\n",
       "      <td>SG-2014-RH9495111-41948</td>\n",
       "      <td>Same Day</td>\n",
       "      <td>RH-9495111</td>\n",
       "      <td>Rick Hansen</td>\n",
       "      <td>Consumer</td>\n",
       "      <td>Technology</td>\n",
       "    </tr>\n",
       "    <tr>\n",
       "      <th>...</th>\n",
       "      <td>...</td>\n",
       "      <td>...</td>\n",
       "      <td>...</td>\n",
       "      <td>...</td>\n",
       "      <td>...</td>\n",
       "      <td>...</td>\n",
       "      <td>...</td>\n",
       "      <td>...</td>\n",
       "    </tr>\n",
       "    <tr>\n",
       "      <th>2015-06-19</th>\n",
       "      <td>2015-06-19</td>\n",
       "      <td>29002</td>\n",
       "      <td>IN-2015-KE1642066-42174</td>\n",
       "      <td>Same Day</td>\n",
       "      <td>KE-1642066</td>\n",
       "      <td>Katrina Edelman</td>\n",
       "      <td>Corporate</td>\n",
       "      <td>Office Supplies</td>\n",
       "    </tr>\n",
       "    <tr>\n",
       "      <th>2014-05-06</th>\n",
       "      <td>2014-05-10</td>\n",
       "      <td>34337</td>\n",
       "      <td>US-2014-ZD21925140-41765</td>\n",
       "      <td>Standard Class</td>\n",
       "      <td>ZD-219251408</td>\n",
       "      <td>Zuschuss Donatelli</td>\n",
       "      <td>Consumer</td>\n",
       "      <td>Furniture</td>\n",
       "    </tr>\n",
       "    <tr>\n",
       "      <th>2012-08-26</th>\n",
       "      <td>2012-08-31</td>\n",
       "      <td>31315</td>\n",
       "      <td>CA-2012-ZD21925140-41147</td>\n",
       "      <td>Second Class</td>\n",
       "      <td>ZD-219251404</td>\n",
       "      <td>Zuschuss Donatelli</td>\n",
       "      <td>Consumer</td>\n",
       "      <td>Office Supplies</td>\n",
       "    </tr>\n",
       "    <tr>\n",
       "      <th>2013-02-17</th>\n",
       "      <td>2013-02-21</td>\n",
       "      <td>9596</td>\n",
       "      <td>MX-2013-RB1979518-41322</td>\n",
       "      <td>Standard Class</td>\n",
       "      <td>RB-1979518</td>\n",
       "      <td>Ross Baird</td>\n",
       "      <td>Home Office</td>\n",
       "      <td>Office Supplies</td>\n",
       "    </tr>\n",
       "    <tr>\n",
       "      <th>2013-05-22</th>\n",
       "      <td>2013-05-26</td>\n",
       "      <td>6147</td>\n",
       "      <td>MX-2013-MC1810093-41416</td>\n",
       "      <td>Second Class</td>\n",
       "      <td>MC-1810093</td>\n",
       "      <td>Mick Crebagga</td>\n",
       "      <td>Consumer</td>\n",
       "      <td>Office Supplies</td>\n",
       "    </tr>\n",
       "  </tbody>\n",
       "</table>\n",
       "<p>51290 rows × 8 columns</p>\n",
       "</div>"
      ],
      "text/plain": [
       "            Ship_Date  Row ID                  Order ID       Ship Mode  \\\n",
       "Order_Date                                                                \n",
       "2014-11-11 2014-11-13   40098  CA-2014-AB10015140-41954     First Class   \n",
       "2014-02-05 2014-02-07   26341    IN-2014-JR162107-41675    Second Class   \n",
       "2014-10-17 2014-10-18   25330    IN-2014-CR127307-41929     First Class   \n",
       "2014-01-28 2014-01-30   13524   ES-2014-KM1637548-41667     First Class   \n",
       "2014-11-05 2014-11-06   47221   SG-2014-RH9495111-41948        Same Day   \n",
       "...               ...     ...                       ...             ...   \n",
       "2015-06-19 2015-06-19   29002   IN-2015-KE1642066-42174        Same Day   \n",
       "2014-05-06 2014-05-10   34337  US-2014-ZD21925140-41765  Standard Class   \n",
       "2012-08-26 2012-08-31   31315  CA-2012-ZD21925140-41147    Second Class   \n",
       "2013-02-17 2013-02-21    9596   MX-2013-RB1979518-41322  Standard Class   \n",
       "2013-05-22 2013-05-26    6147   MX-2013-MC1810093-41416    Second Class   \n",
       "\n",
       "             Customer ID       Customer Name      Segment         Category  \n",
       "Order_Date                                                                  \n",
       "2014-11-11  AB-100151402       Aaron Bergman     Consumer       Technology  \n",
       "2014-02-05     JR-162107       Justin Ritter    Corporate        Furniture  \n",
       "2014-10-17     CR-127307        Craig Reiter     Consumer       Technology  \n",
       "2014-01-28    KM-1637548    Katherine Murray  Home Office       Technology  \n",
       "2014-11-05    RH-9495111         Rick Hansen     Consumer       Technology  \n",
       "...                  ...                 ...          ...              ...  \n",
       "2015-06-19    KE-1642066     Katrina Edelman    Corporate  Office Supplies  \n",
       "2014-05-06  ZD-219251408  Zuschuss Donatelli     Consumer        Furniture  \n",
       "2012-08-26  ZD-219251404  Zuschuss Donatelli     Consumer  Office Supplies  \n",
       "2013-02-17    RB-1979518          Ross Baird  Home Office  Office Supplies  \n",
       "2013-05-22    MC-1810093       Mick Crebagga     Consumer  Office Supplies  \n",
       "\n",
       "[51290 rows x 8 columns]"
      ]
     },
     "execution_count": 16,
     "metadata": {},
     "output_type": "execute_result"
    }
   ],
   "source": [
    "indexed_data = data_modified.set_index(['Order_Date'])\n",
    "indexed_data"
   ]
  },
  {
   "cell_type": "code",
   "execution_count": 17,
   "metadata": {},
   "outputs": [
    {
     "data": {
      "text/plain": [
       "DatetimeIndex(['2014-11-11', '2014-02-05', '2014-10-17', '2014-01-28',\n",
       "               '2014-11-05', '2014-06-28', '2012-11-06', '2013-04-14',\n",
       "               '2014-11-11', '2012-03-06',\n",
       "               ...\n",
       "               '2014-07-09', '2015-06-09', '2015-08-05', '2015-05-30',\n",
       "               '2013-12-28', '2015-06-19', '2014-05-06', '2012-08-26',\n",
       "               '2013-02-17', '2013-05-22'],\n",
       "              dtype='datetime64[ns]', name='Order_Date', length=51290, freq=None)"
      ]
     },
     "execution_count": 17,
     "metadata": {},
     "output_type": "execute_result"
    }
   ],
   "source": [
    "indexed_data.index"
   ]
  },
  {
   "cell_type": "code",
   "execution_count": null,
   "metadata": {},
   "outputs": [],
   "source": []
  },
  {
   "cell_type": "markdown",
   "metadata": {},
   "source": [
    "2. Check whether the DatetimeIndex of the DataFRame is unique or not"
   ]
  },
  {
   "cell_type": "code",
   "execution_count": 18,
   "metadata": {},
   "outputs": [
    {
     "data": {
      "text/plain": [
       "False"
      ]
     },
     "execution_count": 18,
     "metadata": {},
     "output_type": "execute_result"
    }
   ],
   "source": [
    "indexed_data.index.is_unique"
   ]
  },
  {
   "cell_type": "code",
   "execution_count": null,
   "metadata": {},
   "outputs": [],
   "source": []
  },
  {
   "cell_type": "markdown",
   "metadata": {},
   "source": [
    "3. Find the number of orders made in each year for the data 'global_superstore_2016'"
   ]
  },
  {
   "cell_type": "code",
   "execution_count": 19,
   "metadata": {},
   "outputs": [
    {
     "name": "stderr",
     "output_type": "stream",
     "text": [
      "C:\\Users\\Adel\\AppData\\Local\\Temp\\ipykernel_1572\\284034243.py:1: FutureWarning: Indexing a DataFrame with a datetimelike index using a single string to slice the rows, like `frame[string]`, is deprecated and will be removed in a future version. Use `frame.loc[string]` instead.\n",
      "  len(indexed_data['2012'])\n"
     ]
    },
    {
     "data": {
      "text/plain": [
       "8998"
      ]
     },
     "execution_count": 19,
     "metadata": {},
     "output_type": "execute_result"
    }
   ],
   "source": [
    "len(indexed_data['2012'])"
   ]
  },
  {
   "cell_type": "code",
   "execution_count": 20,
   "metadata": {},
   "outputs": [
    {
     "name": "stderr",
     "output_type": "stream",
     "text": [
      "C:\\Users\\Adel\\AppData\\Local\\Temp\\ipykernel_1572\\3762341127.py:1: FutureWarning: Indexing a DataFrame with a datetimelike index using a single string to slice the rows, like `frame[string]`, is deprecated and will be removed in a future version. Use `frame.loc[string]` instead.\n",
      "  len(indexed_data['2013'])\n"
     ]
    },
    {
     "data": {
      "text/plain": [
       "10962"
      ]
     },
     "execution_count": 20,
     "metadata": {},
     "output_type": "execute_result"
    }
   ],
   "source": [
    "len(indexed_data['2013'])"
   ]
  },
  {
   "cell_type": "code",
   "execution_count": 21,
   "metadata": {},
   "outputs": [
    {
     "name": "stderr",
     "output_type": "stream",
     "text": [
      "C:\\Users\\Adel\\AppData\\Local\\Temp\\ipykernel_1572\\3286795078.py:1: FutureWarning: Indexing a DataFrame with a datetimelike index using a single string to slice the rows, like `frame[string]`, is deprecated and will be removed in a future version. Use `frame.loc[string]` instead.\n",
      "  len(indexed_data['2014'])\n"
     ]
    },
    {
     "data": {
      "text/plain": [
       "13799"
      ]
     },
     "execution_count": 21,
     "metadata": {},
     "output_type": "execute_result"
    }
   ],
   "source": [
    "len(indexed_data['2014'])"
   ]
  },
  {
   "cell_type": "code",
   "execution_count": 22,
   "metadata": {},
   "outputs": [
    {
     "name": "stderr",
     "output_type": "stream",
     "text": [
      "C:\\Users\\Adel\\AppData\\Local\\Temp\\ipykernel_1572\\914659466.py:1: FutureWarning: Indexing a DataFrame with a datetimelike index using a single string to slice the rows, like `frame[string]`, is deprecated and will be removed in a future version. Use `frame.loc[string]` instead.\n",
      "  len(indexed_data['2015'])\n"
     ]
    },
    {
     "data": {
      "text/plain": [
       "17531"
      ]
     },
     "execution_count": 22,
     "metadata": {},
     "output_type": "execute_result"
    }
   ],
   "source": [
    "len(indexed_data['2015'])"
   ]
  },
  {
   "cell_type": "code",
   "execution_count": 23,
   "metadata": {},
   "outputs": [
    {
     "name": "stdout",
     "output_type": "stream",
     "text": [
      "51290\n"
     ]
    }
   ],
   "source": [
    "print(13799+17531+8998+10962)"
   ]
  },
  {
   "cell_type": "code",
   "execution_count": null,
   "metadata": {},
   "outputs": [],
   "source": []
  },
  {
   "cell_type": "markdown",
   "metadata": {},
   "source": [
    "4. Group the 'indexed_data' on level '0' that is on the DatetimeIndex object and count the number of Orders made for any arbitrary date"
   ]
  },
  {
   "cell_type": "code",
   "execution_count": 24,
   "metadata": {},
   "outputs": [],
   "source": [
    "grouped = indexed_data.groupby(level=0)['Order ID']"
   ]
  },
  {
   "cell_type": "code",
   "execution_count": 25,
   "metadata": {},
   "outputs": [
    {
     "name": "stdout",
     "output_type": "stream",
     "text": [
      "Order_Date\n",
      "2012-01-01     6\n",
      "2012-01-02     1\n",
      "2012-01-03    20\n",
      "2012-01-04    16\n",
      "2012-01-05     7\n",
      "2012-01-06     8\n",
      "2012-01-07    25\n",
      "2012-01-08     9\n",
      "2012-01-09     8\n",
      "2012-01-10    25\n",
      "2012-01-11    22\n",
      "2012-01-12    15\n",
      "2012-01-13    11\n",
      "2012-01-14    26\n",
      "2012-01-15    13\n",
      "2012-01-16     1\n",
      "2012-01-17    12\n",
      "2012-01-18     5\n",
      "2012-01-19    11\n",
      "2012-01-20    16\n",
      "2012-01-21    30\n",
      "2012-01-22    15\n",
      "2012-01-23     7\n",
      "2012-01-24    21\n",
      "2012-01-25    11\n",
      "2012-01-26    31\n",
      "2012-01-27    21\n",
      "2012-01-28     7\n",
      "2012-01-29     4\n",
      "2012-01-30     9\n",
      "2012-01-31    20\n",
      "2012-02-01    17\n",
      "2012-02-02    27\n",
      "2012-02-03     7\n",
      "2012-02-04    12\n",
      "2012-02-05     6\n",
      "2012-02-06     1\n",
      "2012-02-07    13\n",
      "2012-02-08    10\n",
      "2012-02-09    22\n",
      "2012-02-10    30\n",
      "2012-02-11     8\n",
      "2012-02-12    14\n",
      "2012-02-13     1\n",
      "2012-02-14    22\n",
      "2012-02-15    22\n",
      "2012-02-16    20\n",
      "2012-02-17    10\n",
      "2012-02-18    16\n",
      "2012-02-19     3\n",
      "Name: Order ID, dtype: int64\n"
     ]
    }
   ],
   "source": [
    "print(grouped.count()[:50])"
   ]
  },
  {
   "cell_type": "code",
   "execution_count": null,
   "metadata": {},
   "outputs": [],
   "source": []
  }
 ],
 "metadata": {
  "kernelspec": {
   "display_name": "Python 3 (ipykernel)",
   "language": "python",
   "name": "python3"
  },
  "language_info": {
   "codemirror_mode": {
    "name": "ipython",
    "version": 3
   },
   "file_extension": ".py",
   "mimetype": "text/x-python",
   "name": "python",
   "nbconvert_exporter": "python",
   "pygments_lexer": "ipython3",
   "version": "3.8.5"
  }
 },
 "nbformat": 4,
 "nbformat_minor": 2
}
